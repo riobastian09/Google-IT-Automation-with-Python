{
 "cells": [
  {
   "cell_type": "code",
   "execution_count": 6,
   "metadata": {},
   "outputs": [
    {
     "name": "stdout",
     "output_type": "stream",
     "text": [
      "Invalid username. Must be at least 3 character long\n",
      "Good\n"
     ]
    }
   ],
   "source": [
    "def hint_username(username):\n",
    "    if len(username) <= 3:\n",
    "        print(\"Invalid username. Must be at least 3 character long\")\n",
    "    else:\n",
    "        print(\"Good\")\n",
    "\n",
    "hint_username(\"Rio\")\n",
    "hint_username(\"Mario\")"
   ]
  },
  {
   "cell_type": "code",
   "execution_count": 13,
   "metadata": {},
   "outputs": [
    {
     "name": "stdout",
     "output_type": "stream",
     "text": [
      "True\n",
      "False\n"
     ]
    }
   ],
   "source": [
    "def is_even(number):\n",
    "    if number % 2 ==0:\n",
    "        return True\n",
    "    return False\n",
    "\n",
    "value = is_even(122)\n",
    "print(value)\n",
    "value = is_even(123)\n",
    "print(value)"
   ]
  },
  {
   "cell_type": "code",
   "execution_count": 18,
   "metadata": {},
   "outputs": [
    {
     "name": "stdout",
     "output_type": "stream",
     "text": [
      "Invalid username. Must be at least 3 character long\n",
      "Invalid username. Must be at most 15 character long\n",
      "Valid Username\n"
     ]
    }
   ],
   "source": [
    "def hint_username(username):\n",
    "    if len(username) <= 3:\n",
    "        print(\"Invalid username. Must be at least 3 character long\")\n",
    "    elif len(username) >= 15:\n",
    "        print(\"Invalid username. Must be at most 15 character long\")\n",
    "    else:\n",
    "        print(\"Valid Username\")\n",
    "\n",
    "hint_username(\"Rio\")\n",
    "hint_username(\"Rio De Jenairo Le Maryo De Caprio\")\n",
    "hint_username(\"Rio Bastian\")"
   ]
  },
  {
   "cell_type": "code",
   "execution_count": 20,
   "metadata": {},
   "outputs": [
    {
     "name": "stdout",
     "output_type": "stream",
     "text": [
      "2\n"
     ]
    }
   ],
   "source": [
    "number = 10\n",
    "if number > 11: \n",
    "  print(0)\n",
    "elif number != 10:\n",
    "  print(1)\n",
    "elif number >= 20 or number < 12:\n",
    "  print(2)\n",
    "else:\n",
    "  print(3)"
   ]
  },
  {
   "cell_type": "code",
   "execution_count": 1,
   "metadata": {},
   "outputs": [
    {
     "name": "stdout",
     "output_type": "stream",
     "text": [
      "True\n",
      "False\n"
     ]
    }
   ],
   "source": [
    "# The value of 10*4 (40) is greater than 14+23 (37), therefore this \n",
    "# comparison expression will return the Boolean value of True.\n",
    "\n",
    "\n",
    "print(10*4 > 14+23) # Should print True\n",
    "\n",
    "# The letter \"t\" has a Unicode value of 116 and the letter \"s\" has a\n",
    "# Unicode value of 115. Since 116 is not less than 115, the \n",
    "# comparison of \"tall\" < \"short\" (or 116 < 115) is False. \n",
    "\n",
    "print(\"tall\" < \"short\")  # Should print False"
   ]
  },
  {
   "cell_type": "code",
   "execution_count": 2,
   "metadata": {},
   "outputs": [
    {
     "name": "stdout",
     "output_type": "stream",
     "text": [
      "Requested web page not found on server\n"
     ]
    }
   ],
   "source": [
    "# This function accepts one variable as a parameter\n",
    "def translate_error_code(error_code):\n",
    " \n",
    "# The if-elif-else block assesses the value of the variable\n",
    "# passed to the function as a parameter. The if statement uses \n",
    "# the equality operator == to test the value of the variable.\n",
    "# This test returns a Boolean (True/False) result.\n",
    "    if error_code == \"401 Unauthorized\":\n",
    "# If the comparison above returns True, then the indented \n",
    "# line(s) inside the if-statement will run. In this case, the\n",
    "# action is to assign a string to the translation variable.\n",
    "# The remainder of the if-elif-else block will not run.\n",
    "# The Python interpreter will skip to the next line outside of \n",
    "# the if-elif-else block. In this case, the next line is the \n",
    "# return value statement.  \n",
    "        translation = \"Server received an unauthenticated request\"\n",
    " \n",
    "# If the initial if-statement returns a False result, then the\n",
    "# first elif-statement will run a different test on the value\n",
    "# of the variable.\n",
    "    elif error_code == \"404 Not Found\":\n",
    "# If the first elif-statement returns a True result, then the\n",
    "# indented line(s) inside the first elif-statement will run. \n",
    "# After this line, the remainder of the if-elif-else block will\n",
    "# not run. The Python interpreter will skip to the next line\n",
    "# outside of the if-elif-else block. \n",
    "        translation = \"Requested web page not found on server\"\n",
    " \n",
    "# If both the initial if-statement and the first elif-statement \n",
    "# return a False result, then the second elif-statement will\n",
    "# run.\n",
    "    elif error_code == \"408 Request Timeout\":\n",
    "# If the second elif-statement returns a True result, then the\n",
    "# indented line(s) inside the second elif-statement will run. \n",
    "# After this line, the remainder of the if-elif-else block will\n",
    "# not run. The Python interpreter will skip to the next line\n",
    "# outside of the if-elif-else block. \n",
    "        translation = \"Server request to close unused connection\"\n",
    " \n",
    "# If the conditional tests above do not produce a True result\n",
    "# then the else-statement will run. \n",
    "    else:\n",
    "        translation = \"Unknown error code\"\n",
    "# The if-elif-else block ends.\n",
    "\n",
    "# The next line outside of the if-elif-else block will run\n",
    "# after exiting the block. In this case, the next line returns\n",
    "# the output from the if-elif-else block.\n",
    "    return translation\n",
    "\n",
    "# The print() function allows us to display the output of the\n",
    "# function. To call a function in a print statement, the syntax\n",
    "# is print(name_of_function(parameter))\n",
    "print(translate_error_code(\"404 Not Found\"))\n",
    "\n",
    "# Expected output:\n",
    "# Requested web page not found on server"
   ]
  },
  {
   "cell_type": "code",
   "execution_count": 3,
   "metadata": {},
   "outputs": [
    {
     "name": "stdout",
     "output_type": "stream",
     "text": [
      "The number is less than 32 and greater than 6.\n"
     ]
    }
   ],
   "source": [
    "# Sets value of the \"number\" variable\n",
    "number = 25\n",
    "\n",
    "# The \"number\" variable will first be compared to 5. Since it is \n",
    "# False that \"number\" is not less than or equal to 5, the expression indented \n",
    "# under this line will be ignored. \n",
    "if number <= 5: \n",
    "   print(\"The number is 5 or smaller.\")\n",
    " \n",
    "# Next, the \"number\" variable will be compared to 33. Since it is \n",
    "# False that \"number\" is equal to 33, the expression indented under \n",
    "# this line will be ignored. \n",
    "elif number == 33:\n",
    "   print(\"The number is 33.\")\n",
    " \n",
    "# Then, the \"number\" variable will be compared to 32 and 6. Since it \n",
    "# is True that 25 is less than 32 and greater than 6, the Python \n",
    "# interpreter will print \"The number is less than 32 and/or greater\n",
    "# than 6.\" Then, it will exit the if-elif-else statement and the remainder \n",
    "# of the if-elif-else statement will be ignored.\n",
    "elif number < 32 and number >= 6:\n",
    "   print(\"The number is less than 32 and greater than 6.\")\n",
    " \n",
    "else:\n",
    "   print(\"The number is \" + str(number))\n",
    " \n",
    "# Expected output is: \n",
    "# The number is less than 32 and greater than 6.\n"
   ]
  },
  {
   "cell_type": "code",
   "execution_count": 4,
   "metadata": {},
   "outputs": [
    {
     "name": "stdout",
     "output_type": "stream",
     "text": [
      "40\n"
     ]
    }
   ],
   "source": [
    "# This function rounds a variable number up to the nearest 10x value\n",
    "def round_up(number):\n",
    "  x = 10\n",
    "# The floor division operator will calculate the integer value of\n",
    "# \"number\" divided by x: 35 // 10 will return the integer 3.\n",
    "  whole_number = number // x\n",
    "# The modulo operator will calculate the remainder value of \"number\"\n",
    "# divided by x: 35 % 10 will return the remainder value 5.\n",
    "  remainder = number % x\n",
    "# If the remainder is greater than 0: \n",
    "  if remainder >= 5: \n",
    "# Return x multiplied by the (whole_number+1) to round up\n",
    "    return x*(whole_number+1)\n",
    "# Else, return x multiplied by the whole_number to round down\n",
    "  return x*whole_number\n",
    " \n",
    "# Calls the function with the parameter value of 35.\n",
    "print(round_up(35)) # Should print 40"
   ]
  },
  {
   "cell_type": "markdown",
   "metadata": {},
   "source": [
    "# Practice Quiz: Conditionals"
   ]
  },
  {
   "cell_type": "code",
   "execution_count": 7,
   "metadata": {},
   "outputs": [
    {
     "name": "stdout",
     "output_type": "stream",
     "text": [
      "4096\n",
      "4096\n",
      "8192\n",
      "8192\n"
     ]
    }
   ],
   "source": [
    "# If a filesystem has a block size of 4096 bytes, this means that a file \n",
    "# comprised of only one byte will still use 4096 bytes of storage. A file \n",
    "# made up of 4097 bytes will use 4096*2=8192 bytes of storage. Knowing this, \n",
    "# can you fill in the gaps in the calculate_storage function below, which \n",
    "# calculates the total number of bytes needed to store a file of a given size?\n",
    "\n",
    "def calculate_storage(filesize):\n",
    "    block_size = 4096\n",
    "    # Use floor division to calculate how many blocks are fully occupied\n",
    "    full_blocks = filesize//block_size\n",
    "    # Use the modulo operator to check whether there's any remainder\n",
    "    partial_block_remainder = filesize%block_size\n",
    "    # Depending on whether there's a remainder or not, return\n",
    "    # the total number of bytes required to allocate enough blocks\n",
    "    # to store your data.\n",
    "    if partial_block_remainder > 0:\n",
    "        return block_size*(full_blocks+1)\n",
    "    return full_blocks*block_size\n",
    "\n",
    "print(calculate_storage(1))    # Should be 4096\n",
    "print(calculate_storage(4096)) # Should be 4096\n",
    "print(calculate_storage(4097)) # Should be 8192\n",
    "print(calculate_storage(6000)) # Should be 8192"
   ]
  },
  {
   "cell_type": "markdown",
   "metadata": {},
   "source": [
    "# Study Guide : Week 2"
   ]
  },
  {
   "cell_type": "code",
   "execution_count": null,
   "metadata": {},
   "outputs": [],
   "source": [
    "# A function is created with the def() keyword. The parameter\n",
    "# variable \"time_as_string\" is passed to the function through a \n",
    "# call to the function.\n",
    "def task_reminder(time_as_string):\n",
    "\n",
    "    # The following if-elif-else block assigns various strings to\n",
    "    # the variable \"task\" depending on specific conditions. The\n",
    "    # test conditions are set using the == equality comparison \n",
    "    # operator. In this case, the time passed through the \n",
    "    # \"time_as_string\" parameter variable is tested as the \n",
    "    # specific condition. So, if the time  is \"11:30 a.m.\", then \n",
    "    # \"task\" is assigned the value: \"Run TPS report\".\n",
    "    if time_as_string == \"8:00 a.m.\":\n",
    "        task = \"Check overnight backup images\"\n",
    "    elif time_as_string == \"11:30 a.m.\":\n",
    "        task = \"Run TPS report\"\n",
    "    elif time_as_string == \"5:30 p.m.\":\n",
    "        task = \"Reboot servers\"\n",
    "    # The else statement is a catchall for all other values of \n",
    "    # the \"time_as_string\" parameter variable not listed in the\n",
    "    # if-elif block of code.\n",
    "    else:\n",
    "        task = \"Provide IT Support to employees\"\n",
    "\n",
    "    # This line returns the value of \"task\" to the function call.\n",
    "    return task\n",
    "\n",
    "# This line calls the function and passes a parameter  \n",
    "# (\"10:00 a.m.\") to the function.\n",
    "print(task_reminder(\"10:00 a.m.\"))\n",
    "# Should print \"Provide IT Support to employees\"\n"
   ]
  },
  {
   "cell_type": "code",
   "execution_count": 8,
   "metadata": {},
   "outputs": [
    {
     "name": "stdout",
     "output_type": "stream",
     "text": [
      "120\n",
      "-2\n",
      "False\n",
      "This comparison is True\n",
      "0\n"
     ]
    }
   ],
   "source": [
    "# Example 1\n",
    "# Evaluate the output of this print statement\n",
    "\n",
    "def product(a, b):\n",
    "        return(a*b)\n",
    "\n",
    "print(product(product(2,4), product(3,5)))\n",
    " \n",
    "#################################\n",
    "\n",
    "# Example 2 \n",
    "# Evaluate the output of this print statement\n",
    "\n",
    "def difference(a, b):\n",
    "        return(a-b)\n",
    "\n",
    "def sum(a, b):\n",
    "        return(a+b)\n",
    "\n",
    "print(difference(sum(2,2), sum(3,3)))\n",
    "\n",
    "\n",
    "#################################\n",
    "\n",
    "\n",
    "# Example 3\n",
    "# Evaluate the Boolean output of this comparison\n",
    "\n",
    "\n",
    "print((5 >= 2*4) and (5 <= 4*3))\n",
    "\n",
    "\n",
    "#################################\n",
    "\n",
    "\n",
    "# Example 4 \n",
    "# Evaluate the value of the comparison in the if statement \n",
    "\n",
    "\n",
    "x = 3\n",
    "if x+5 > x**2 or x % 4 != 0:\n",
    "        print(\"This comparison is True\")\n",
    "\n",
    "\n",
    "#################################\n",
    "\n",
    "\n",
    "# Example 5 \n",
    "# Evaluate the output of this if-elif-else statement\n",
    "\n",
    "\n",
    "number = 6\n",
    "if number * 2 < 14:\n",
    "        print(number * 6 % 3)\n",
    "elif number > 7:\n",
    "        print(100 / number)\n",
    "else:\n",
    "        print(7 - number)\n",
    "\n",
    "\n",
    "# Click Run to check your answers. If you are having trouble \n",
    "# calculating the correct answers manually, please review the\n",
    "# Practice Quiz Study Guides, videos, and readings in this Module.\n"
   ]
  },
  {
   "cell_type": "code",
   "execution_count": 9,
   "metadata": {},
   "outputs": [
    {
     "name": "stdout",
     "output_type": "stream",
     "text": [
      "0.3333333333333333\n"
     ]
    }
   ],
   "source": [
    "def get_remainder(x, y):\n",
    " \n",
    "  if x == 0 or y == 0 or x ==y:\n",
    "    remainder = 0\n",
    "  else:\n",
    "    remainder = (x % y) / y\n",
    "  return remainder\n",
    "\n",
    "\n",
    "print(get_remainder(10, 3))\n"
   ]
  },
  {
   "cell_type": "code",
   "execution_count": 10,
   "metadata": {},
   "outputs": [
    {
     "ename": "TypeError",
     "evalue": "'<' not supported between instances of 'int' and 'str'",
     "output_type": "error",
     "traceback": [
      "\u001b[1;31m---------------------------------------------------------------------------\u001b[0m",
      "\u001b[1;31mTypeError\u001b[0m                                 Traceback (most recent call last)",
      "\u001b[1;32m~\\AppData\\Local\\Temp\\ipykernel_7028\\619135376.py\u001b[0m in \u001b[0;36m<module>\u001b[1;34m\u001b[0m\n\u001b[1;32m----> 1\u001b[1;33m \u001b[0mprint\u001b[0m\u001b[1;33m(\u001b[0m\u001b[1;36m7\u001b[0m \u001b[1;33m<\u001b[0m \u001b[1;34m\"number\"\u001b[0m\u001b[1;33m)\u001b[0m\u001b[1;33m\u001b[0m\u001b[0m\n\u001b[0m",
      "\u001b[1;31mTypeError\u001b[0m: '<' not supported between instances of 'int' and 'str'"
     ]
    }
   ],
   "source": [
    "# print(7 < \"number\")"
   ]
  },
  {
   "cell_type": "markdown",
   "metadata": {},
   "source": [
    "# Week 2 Graded Assessment"
   ]
  },
  {
   "cell_type": "code",
   "execution_count": 11,
   "metadata": {},
   "outputs": [
    {
     "name": "stdout",
     "output_type": "stream",
     "text": [
      "Reckless Driving\n",
      "Speeding\n",
      "Safe\n",
      "Reckless Driving\n",
      "Safe\n",
      "Speeding\n"
     ]
    }
   ],
   "source": [
    "# Consider the following scenario about using if-elif-else statements:\n",
    "# \n",
    "# Police patrol a specific stretch of dangerous highway and are very \n",
    "# particular about speed limits.  The speed limit is 65 miles per hour. \n",
    "# Cars going 80 miles per hour or more are given a “Reckless Driving” ticket. \n",
    "# Cars going more than 65 miles per hour are given a “Speeding” ticket.  \n",
    "# Any cars going less than that are labeled “Safe” in the system.\n",
    "# \n",
    "# Fill in the blanks in this function so it returns the proper ticket type or label.\n",
    "\n",
    "def speeding_ticket(speed):\n",
    "    if speed >= 80 :\n",
    "        ticket = \"Reckless Driving\"\n",
    "    elif speed > 65:\n",
    "        ticket = \"Speeding\"\n",
    "    else:\n",
    "        ticket = \"Safe\"\n",
    "    return ticket\n",
    "\n",
    "\n",
    "print(speeding_ticket(87)) # Should print Reckless Driving\n",
    "print(speeding_ticket(66)) # Should print Speeding\n",
    "print(speeding_ticket(65)) # Should print Safe\n",
    "print(speeding_ticket(85)) # Should print Reckless Driving\n",
    "print(speeding_ticket(35)) # Should print Safe\n",
    "print(speeding_ticket(77)) # Should print Speeding"
   ]
  },
  {
   "cell_type": "code",
   "execution_count": 14,
   "metadata": {},
   "outputs": [
    {
     "name": "stdout",
     "output_type": "stream",
     "text": [
      "Check\n",
      "24 16\n",
      "0\n"
     ]
    }
   ],
   "source": [
    "n = 4\n",
    "if n*6 > n**2 or n%2 == 0:\n",
    "    print(\"Check\")\n",
    "    print(n*6 , n**2)\n",
    "    print(n%2)"
   ]
  },
  {
   "cell_type": "code",
   "execution_count": null,
   "metadata": {},
   "outputs": [],
   "source": [
    "# Fill in the blanks to complete the function. The “identify_IP” \n",
    "# function receives an “IP_address” as a string through the function’s \n",
    "# parameters, then it should print a description of the IP address. \n",
    "# Currently, the function should only support three IP addresses and \n",
    "# return \"unknown\" for all other IPs.\n",
    "\n",
    "def identify_IP(IP_address):\n",
    "    if IP_address == \"192.168.1.1\":\n",
    "        IP_description = \"Network router\"\n",
    "    elif IP_address == \"8.8.8.8\" or IP_address == \"8.8.4.4\":\n",
    "        IP_description = \"Google DNS server\"\n",
    "    elif IP_address == \"142.250.191.46\":\n",
    "        IP_description = \"Google.com\"\n",
    "    else:\n",
    "        IP_description = \"unknown\"\n",
    "    return IP_description\n",
    "\n",
    "\n",
    "print(identify_IP(\"8.8.4.4\")) # Should print 'Google DNS server'\n",
    "print(identify_IP(\"142.250.191.46\")) # Should print 'Google.com'\n",
    "print(identify_IP(\"192.168.1.1\")) # Should print 'Network router'\n",
    "print(identify_IP(\"8.8.8.8\")) # Should print 'Google DNS server'\n",
    "print(identify_IP(\"10.10.10.10\")) # Should print 'unknown'\n",
    "print(identify_IP(\"\")) # Should Should print 'unknown'"
   ]
  },
  {
   "cell_type": "code",
   "execution_count": 15,
   "metadata": {},
   "outputs": [
    {
     "name": "stdout",
     "output_type": "stream",
     "text": [
      "10\n"
     ]
    }
   ],
   "source": [
    "def sum(x, y):\n",
    "        return(x+y)\n",
    "print(sum(sum(1,2), sum(3,4)))"
   ]
  },
  {
   "cell_type": "code",
   "execution_count": 17,
   "metadata": {},
   "outputs": [
    {
     "name": "stdout",
     "output_type": "stream",
     "text": [
      "False\n"
     ]
    }
   ],
   "source": [
    "if ((24 == 5*2) and (24 > 3*5) and (2*6 == 12)):\n",
    "    print(\"True\")\n",
    "else:\n",
    "    print(\"False\")"
   ]
  },
  {
   "cell_type": "code",
   "execution_count": 18,
   "metadata": {},
   "outputs": [
    {
     "name": "stdout",
     "output_type": "stream",
     "text": [
      "4\n",
      "0\n",
      "0.25\n",
      "5\n"
     ]
    }
   ],
   "source": [
    "#  Fill in the blanks to complete the function. The “make_positive” function takes in a \n",
    "# number and converts that number to its positive equivalent.  Complete the function to \n",
    "# accomplish the following tasks:\n",
    "\n",
    "# use an if statement to test if the number is negative;\n",
    "# use a calculation inside the if statement to change the negative number to be positive;\n",
    "# use a calculation in the else statement to return any positive “number” unchanged.\n",
    "\n",
    "def make_positive(number):\n",
    "    if number < 0:\n",
    "        result = number * -1 \n",
    "    else:\n",
    "        result = number\n",
    "    return result\n",
    "\n",
    "\n",
    "print(make_positive(-4))   # Should print 4\n",
    "print(make_positive(0))    # Should print 0\n",
    "print(make_positive(-.25)) # Should print 0.25\n",
    "print(make_positive(5))    # Should print 5"
   ]
  },
  {
   "cell_type": "code",
   "execution_count": null,
   "metadata": {},
   "outputs": [],
   "source": []
  }
 ],
 "metadata": {
  "kernelspec": {
   "display_name": "Python 3.7.0 64-bit",
   "language": "python",
   "name": "python3"
  },
  "language_info": {
   "codemirror_mode": {
    "name": "ipython",
    "version": 3
   },
   "file_extension": ".py",
   "mimetype": "text/x-python",
   "name": "python",
   "nbconvert_exporter": "python",
   "pygments_lexer": "ipython3",
   "version": "3.7.0"
  },
  "orig_nbformat": 4,
  "vscode": {
   "interpreter": {
    "hash": "d4f3b6a2a481da716a753d25a28eb6c120ed8e5e5a1bdf483d7f5016fd6841a7"
   }
  }
 },
 "nbformat": 4,
 "nbformat_minor": 2
}
