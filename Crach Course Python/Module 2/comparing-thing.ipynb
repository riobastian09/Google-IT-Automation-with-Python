{
 "cells": [
  {
   "cell_type": "code",
   "execution_count": 2,
   "metadata": {},
   "outputs": [
    {
     "name": "stdout",
     "output_type": "stream",
     "text": [
      "True\n",
      "False\n",
      "True\n"
     ]
    }
   ],
   "source": [
    "print(10>1)\n",
    "print(\"cat\"==\"dog\")\n",
    "print(1 != 2)"
   ]
  },
  {
   "cell_type": "code",
   "execution_count": null,
   "metadata": {},
   "outputs": [],
   "source": [
    "# Error example\n",
    "# print(1 < \"1\")\n",
    "# Can not evaluated int and str"
   ]
  },
  {
   "cell_type": "code",
   "execution_count": 4,
   "metadata": {},
   "outputs": [
    {
     "name": "stdout",
     "output_type": "stream",
     "text": [
      "False\n",
      "True\n",
      "True\n"
     ]
    }
   ],
   "source": [
    "print(\"Yellow\" > \"Cyan\" and \"Brown\" > \"Magenta\")\n",
    "print(25>50 or 1!=2)\n",
    "print(not 42 == \"Answer\")"
   ]
  },
  {
   "cell_type": "markdown",
   "metadata": {},
   "source": [
    "# Comparison Operators with Equations"
   ]
  },
  {
   "cell_type": "code",
   "execution_count": null,
   "metadata": {},
   "outputs": [],
   "source": [
    "print(32 == 30+2)   # The == operator checks if the 2 values are \n",
    "# True                # equal to each other. If they are equal, \n",
    "                    # Python returns a True result.\n",
    "\n",
    "\n",
    "print(5+10 == 6+7)  # If the two values are not equal, as in the\n",
    "# False               # expression 5+10 == 6+7 (or 15 == 13), Python          \n",
    "                    # returns a False result.\n",
    "\n",
    "\n",
    "print(10-4 != 10+4) # The != operator checks if the 2 values are\n",
    "# True                # NOT equal to each other. If true, Python              \n",
    "                    # returns a True result. \n",
    "\n",
    "\n",
    "print(9/3 != 3*1)   # In this last example, 9/3 != 3*1 (or 3 != 3)\n",
    "# False               # is false. So, Python returns a False value."
   ]
  },
  {
   "cell_type": "code",
   "execution_count": null,
   "metadata": {},
   "outputs": [],
   "source": [
    "# The = equals assignment operator is used to assign a value to a \n",
    "# variable.\n",
    "\n",
    "my_variable = 3*5           # Assigns a value to my_variable      \n",
    "print(my_variable)          # Printing the variable returns the \n",
    "#15                          # value assigned to the variable.\n",
    "\n",
    "\n",
    "                              \n",
    "# The == equality comparison operator checks if the values of the two\n",
    "# expressions on either side of the == operator are equivalent to one \n",
    "# another.\n",
    "      \n",
    "print(my_variable == 3*5)   # Printing the variable returns a Boolean \n",
    "#True                        # True or False result. "
   ]
  },
  {
   "cell_type": "code",
   "execution_count": null,
   "metadata": {},
   "outputs": [],
   "source": [
    "print(11 > 3*3)         # The > operator checks if the left value is\n",
    "#True                    # greater than the right value. If true, it\n",
    "                        # returns a True result.\n",
    "\n",
    "\n",
    "print(4/2 > 8-4)        # If the > operator finds that the left value\n",
    "#False                   # is NOT greater than the right value, the\n",
    "                        # comparison will return a False result.\n",
    "\n",
    "\n",
    "print(4/2 < 8-4)        # The < operator checks  if the left value is\n",
    "#True                    # less than the right side. If true, the\n",
    "                        # comparison returns a True result.\n",
    "\n",
    "\n",
    "print(11 < 3*3)         # If the < operator finds that the left side is False                   # NOT less than the right value, Python returns\n",
    "                        # a False result."
   ]
  },
  {
   "cell_type": "code",
   "execution_count": null,
   "metadata": {},
   "outputs": [],
   "source": [
    "print(12*2 >= 24)   # The >= operator checks if the left value is\n",
    "#True                # greater than or equal to the right value. \n",
    "                    # If one of these conditions is true,  \n",
    "                    # Python returns a True result. In this case  \n",
    "                    # the two values are equal. So, the comparison\n",
    "                    # returns a True result.\n",
    "\n",
    "\n",
    "print(18/2 >= 15)   # If the >= comparison determines that the left False\n",
    "#False               # value is NOT greater than or equal to the\n",
    "                    # right, it returns a False result.\n",
    "\n",
    "print(12*2 <= 30)   # The <= operator checks if the left value is\n",
    "#True                # less than or equal to the right value. In \n",
    "                    # this case, the left value is less than the\n",
    "                    # right value. Again, if one of the two \n",
    "                    # conditions is true, Python returns a True\n",
    "                    # result.\n",
    "\n",
    "\n",
    "print(15 <= 18/2)   # If the <= comparison determines that the left \n",
    "#False               # value is NOT less than or equal to the right\n",
    "                    # value, the comparison returns a False result. "
   ]
  },
  {
   "cell_type": "markdown",
   "metadata": {},
   "source": [
    "# Comparison Operators with Strings"
   ]
  },
  {
   "cell_type": "code",
   "execution_count": null,
   "metadata": {},
   "outputs": [],
   "source": [
    "# The == operator can check if two strings are equal to each other. \n",
    "# If they are equal, the Python interpreter returns a True result.\n",
    "print(\"a string\" == \"a string\")\n",
    "# True\n",
    "\n",
    "\n",
    "# In this example, the equality == comparison is between \"4 + 5\" and\n",
    "# 4 + 5. Since the left data type is a string and the right data type\n",
    "# is an integer, the two values cannot be equal. So, the comparison\n",
    "# returns a False result.\n",
    "print(\"4 + 5\" == 4 + 5)\n",
    "# False\n",
    "\n",
    "\n",
    "# The != operator can check if the two strings are NOT equal to each\n",
    "# other. If they are indeed not equal, then Python returns a True result.\n",
    "print(\"rabbit\" != \"frog\")\n",
    "# True\n",
    "\n",
    "\n",
    "# In this example, the variable event_city has been assigned the string \n",
    "# value \"Shanghai\". This variable is compared to a static string, \n",
    "# \"Shanghai\", using the != operator. As, the strings \"Shanghai\" and \n",
    "# \"Shanghai\" are the same, the comparison of \"Shanghai\" != \"Shanghai\" \n",
    "# is false. Accordingly, Python will return a False result.\n",
    "event_city = \"Shanghai\"\n",
    "print(event_city != \"Shanghai\")\n",
    "# False\n",
    "\n",
    "# This last example illustrates the result of trying to compare two\n",
    "# items of different data types using the equality == operator. The\n",
    "# two items are not equal, so the comparison returns False.\n",
    "print(\"three\" == 3)\n",
    "# False"
   ]
  },
  {
   "cell_type": "code",
   "execution_count": 5,
   "metadata": {},
   "outputs": [
    {
     "name": "stdout",
     "output_type": "stream",
     "text": [
      "True\n",
      "True\n",
      "False\n",
      "False\n"
     ]
    }
   ],
   "source": [
    "# The greater than > operator checks if the left string has a higher \n",
    "# Unicode value than the right string. If true, the Python interpreter\n",
    "# returns a True result. Since W has a Unicode value of 87, and you can \n",
    "# easily calculate that F has a Unicode value of 70, this comparison is\n",
    "# the same as 87 > 70. As this is true, Python will return a True \n",
    "# result.\n",
    "print(\"Wednesday\" > \"Friday\")\n",
    "# True\n",
    " \n",
    " \n",
    "# The less than < operator checks if the left string has a lower \n",
    "# Unicode value than the right string. If you reference the Unicode \n",
    "# chart above, you can see that all lowercase letters have higher \n",
    "# Unicode values than uppercase letters. We can see that B has a \n",
    "# Unicode value of 66 and b has a Unicode value of 98. This \n",
    "# comparison is the same as 66 < 98, which is true. So, Python will \n",
    "# return a True result.\n",
    "print(\"Brown\" < \"brown\")\n",
    "# True\n",
    "\n",
    "\n",
    "# If the strings have the same first few letters, the comparison will \n",
    "# cycle through each letter of each string, from left to right until it \n",
    "# finds two letters that have different Unicode values. In this example, \n",
    "# both strings share the initial substring \"sun\", but then have \n",
    "# different letters with different Unicode values in the fourth place \n",
    "# in each string. So, the fourth letters 'b' and 't' of the two\n",
    "# strings are used for the comparison. Since 'b' does not have a higher\n",
    "# Unicode value than 't', the comparison returns a False result.\n",
    "print(\"sunbathe\" > \"suntan\")\n",
    "# False\n",
    "\n",
    "\n",
    "# If two identical strings are compared using the less than < comparison\n",
    "# operator, this will produce a False result because they are equal.\n",
    "print(\"Lima\" < \"Lima\")\n",
    "# False\n",
    "\n",
    "\n",
    "# This last example illustrates the result of trying to compare two\n",
    "# items of different data types using the less than < operator. The \n",
    "# greater than > and less than operators < cannot be used to compare\n",
    "# two different data types. \n",
    "# print(\"Five\" < 6)\n",
    "# '''\n",
    "# Error on line 1:\n",
    "#     print(\"Five\" < 6)\n",
    "# TypeError: '<' not supported between instances of 'str' and 'int\n",
    "# ''''"
   ]
  },
  {
   "cell_type": "code",
   "execution_count": null,
   "metadata": {},
   "outputs": [],
   "source": [
    "# Use the Unicode chart in Part 2 to determine if the Unicode values of \n",
    "# the first letters of each string are higher, lower, or equal to one\n",
    "# another. \n",
    "\n",
    "\n",
    "var1 = \"my computer\" >= \"my chair\"\n",
    "var2 = \"Spring\" <= \"Winter\"\n",
    "var3 = \"pineapple\" >= \"pineapple\"\n",
    " \n",
    "print(\"Is \\\"my computer\\\" greater than or equal to \\\"my chair\\\"? Result: \", var1)\n",
    "print(\"Is \\\"Spring\\\" less than or equal to \\\"Winter\\\"? Result: \", var2)\n",
    "print(\"Is \\\"pineapple\\\" less than or equal to \\\"pineapple\\\"? Result: \", var3)"
   ]
  }
 ],
 "metadata": {
  "kernelspec": {
   "display_name": "Python 3.7.0 64-bit",
   "language": "python",
   "name": "python3"
  },
  "language_info": {
   "codemirror_mode": {
    "name": "ipython",
    "version": 3
   },
   "file_extension": ".py",
   "mimetype": "text/x-python",
   "name": "python",
   "nbconvert_exporter": "python",
   "pygments_lexer": "ipython3",
   "version": "3.7.0"
  },
  "orig_nbformat": 4,
  "vscode": {
   "interpreter": {
    "hash": "d4f3b6a2a481da716a753d25a28eb6c120ed8e5e5a1bdf483d7f5016fd6841a7"
   }
  }
 },
 "nbformat": 4,
 "nbformat_minor": 2
}
