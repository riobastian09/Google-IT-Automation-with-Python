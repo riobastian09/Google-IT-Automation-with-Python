{
 "cells": [
  {
   "cell_type": "code",
   "execution_count": null,
   "metadata": {},
   "outputs": [],
   "source": [
    "# The and Logical Operator\n",
    "# Example 1\n",
    "\n",
    "print((6*3 >= 18) and (9+9 <= 36/2))"
   ]
  },
  {
   "cell_type": "code",
   "execution_count": null,
   "metadata": {},
   "outputs": [],
   "source": [
    "# The or Logical Operator\n",
    "#  Expression1 or Expression2\n",
    "\n",
    "# True or True returns True\n",
    "country = \"Indonesia\"\n",
    "city = \"Jakarta\"\n",
    "print((15/3 < 2+4) or (0 >= 6-7))\n",
    "# True\n",
    "\n",
    "# False or True returns True\n",
    "print(country == \"New York City\" or city == \"New York City\")\n",
    "# True\n",
    "\n",
    "# True or False returns True\n",
    "print(16 <= 4**2 or 9**(0.5) != 3)\n",
    "# True\n",
    "\n",
    "# False or False returns False\n",
    "print(\"B_name\" > \"C_name\" or \"B_name\" < \"A_name\")\n",
    "# False"
   ]
  },
  {
   "cell_type": "code",
   "execution_count": 3,
   "metadata": {},
   "outputs": [
    {
     "name": "stdout",
     "output_type": "stream",
     "text": [
      "The value of x is:\n",
      "False\n",
      "\n",
      "The inverse value of x is:\n",
      "True\n"
     ]
    }
   ],
   "source": [
    "# The not Logical Operator\n",
    "# not expression\n",
    "# Test Example 1:\n",
    "\n",
    "x = 2*3 > 6\n",
    "print(\"The value of x is:\")\n",
    "print(x)\n",
    "\n",
    "print(\"\")  # Prints a blank line\n",
    "\n",
    "print(\"The inverse value of x is:\")\n",
    "print(not x)"
   ]
  },
  {
   "cell_type": "code",
   "execution_count": null,
   "metadata": {},
   "outputs": [],
   "source": [
    "# What happens when you negate a False statement? \n",
    "# Click Run when you are ready to check your answer.\n",
    "\n",
    "\n",
    "today = \"Monday\"\n",
    "print(not today == \"Tuesday\") \n",
    "\n",
    "\n",
    "# The \"today\" variable states today is Monday. This makes the comparison\n",
    "# \"today == Tuesday\" False. The logical operator \"not\" inverts the False\n",
    "# result to become True. In other words, this expression asks if it is\n",
    "# false that today is not Tuesday. More succinctly, \"not False\" means \n",
    "# True.\"\n"
   ]
  }
 ],
 "metadata": {
  "kernelspec": {
   "display_name": "Python 3.7.0 64-bit",
   "language": "python",
   "name": "python3"
  },
  "language_info": {
   "codemirror_mode": {
    "name": "ipython",
    "version": 3
   },
   "file_extension": ".py",
   "mimetype": "text/x-python",
   "name": "python",
   "nbconvert_exporter": "python",
   "pygments_lexer": "ipython3",
   "version": "3.7.0"
  },
  "orig_nbformat": 4,
  "vscode": {
   "interpreter": {
    "hash": "d4f3b6a2a481da716a753d25a28eb6c120ed8e5e5a1bdf483d7f5016fd6841a7"
   }
  }
 },
 "nbformat": 4,
 "nbformat_minor": 2
}
