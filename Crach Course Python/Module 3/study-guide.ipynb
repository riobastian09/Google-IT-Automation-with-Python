{
 "cells": [
  {
   "cell_type": "code",
   "execution_count": 1,
   "metadata": {},
   "outputs": [
    {
     "name": "stdout",
     "output_type": "stream",
     "text": [
      "0 10 20 30 40 50 60 70 80 90 100\n"
     ]
    }
   ],
   "source": [
    "# This function will accept an integer variable \"end\" and count by 10\n",
    "# from 0 to the \"end\" value.\n",
    "def count_by_10(end):\n",
    "    # Initializeq the \"count\" variable as a string.\n",
    "    count = \"\"\n",
    "\n",
    "    # The range function parameters instruct Python to start the count  \n",
    "    # at 0 and stop at the variable given as the upper end of the range. \n",
    "    # Since the value of the high end of a range is excluded by default,  \n",
    "    # you can make Python include the \"end\" value by adding +1 to it. \n",
    "    # The third parameter tells Python to increment the count by 10.\n",
    "    for number in range(0,end+1,10):\n",
    "\n",
    "        # Although the variable \"count\" will hold a count of integers,  \n",
    "        # this example will be converted to a string using \"str(number)\" \n",
    "        # in order to display the incremental count from 0 to the \"end\" \n",
    "        # value on the same line with a space \" \" separating each \n",
    "        # number.  \n",
    "        count += str(number) + \" \"\n",
    "        \n",
    "    # The .strip() method will trim the final space \" \" from the end of \n",
    "    # the string \"count\"  \n",
    "    return count.strip()\n",
    "\n",
    "\n",
    "# Call the function with 1 integer parameter.\n",
    "print(count_by_10(100))\n",
    "# Should print 0 10 20 30 40 50 60 70 80 90 100\n"
   ]
  },
  {
   "cell_type": "code",
   "execution_count": 2,
   "metadata": {},
   "outputs": [
    {
     "name": "stdout",
     "output_type": "stream",
     "text": [
      "1 2 3 4 \n",
      "2 4 6 8 \n",
      "3 6 9 12 \n",
      "4 8 12 16 \n"
     ]
    }
   ],
   "source": [
    "# This function uses a set of nested for loops with the range() function \n",
    "# to create a matrix of numbers. The upper range value in the range() \n",
    "# function should be included in the matrix. The matrix should consist \n",
    "# of a set of numbers that fill both rows and columns.\n",
    "def matrix(initial_number, end_of_first_row):\n",
    "\n",
    "\n",
    "    # It is an optional code style to assign the long variable names in the\n",
    "    # function parameters to shorter variable names. \n",
    "    n1 = initial_number \n",
    "    n2 = end_of_first_row+1  # include the upper range value with +1\n",
    "\n",
    "    # The first for loop will create the columns.\n",
    "    for column in range(n1, n2):\n",
    "\n",
    "        # The nested for loop will create the rows.\n",
    "        for row in range(n1, n2):\n",
    "\n",
    "            # To make the matrix of numbers easier to read, include a space\n",
    "            # between each number in the rows until the loop reaches the \n",
    "            # end of the row. You can override the default behavior of the \n",
    "            # print() function (which inserts a new line character after \n",
    "            # the print command runs) by using the \"end=\" \"\" parameter \n",
    "            # inside the print() function.  \n",
    "              print(column*row, end=\" \")\n",
    "\n",
    "        # The row ends when the upper range value is encountered within the \n",
    "        # nested for loop. The outer (column) for loop should insert a new line\n",
    "        # to create the next row. Use the print() function new line default \n",
    "        # behavior with an empty print() function:\n",
    "        print()\n",
    "\n",
    "\n",
    "# Call the function with 2 integer parameters. \n",
    "matrix(1, 4)\n",
    "# Should print:\n",
    "# 1 2 3 4 \n",
    "# 2 4 6 8 \n",
    "# 3 6 9 12 \n",
    "# 4 8 12 16 \n"
   ]
  },
  {
   "cell_type": "code",
   "execution_count": 3,
   "metadata": {},
   "outputs": [
    {
     "name": "stdout",
     "output_type": "stream",
     "text": [
      "0\n",
      "0\n",
      "1\n",
      "0\n",
      "1\n",
      "2\n",
      "0\n",
      "1\n",
      "2\n",
      "3\n",
      "0\n",
      "1\n",
      "2\n",
      "3\n",
      "4\n",
      "0\n",
      "1\n",
      "2\n",
      "3\n",
      "4\n",
      "5\n",
      "0\n",
      "1\n",
      "2\n",
      "3\n",
      "4\n",
      "5\n",
      "6\n",
      "0\n",
      "1\n",
      "2\n",
      "3\n",
      "4\n",
      "5\n",
      "6\n",
      "7\n",
      "0\n",
      "1\n",
      "2\n",
      "3\n",
      "4\n",
      "5\n",
      "6\n",
      "7\n",
      "8\n"
     ]
    }
   ],
   "source": [
    "# For this example, the outer for loop uses an end of range index of \n",
    "# 10. The value of index 10 will be 10-1, or 9.  \n",
    "for outer_loop in range(10):\n",
    "\n",
    "    # Using the \"outer_loop\" variable as the end of range for the  \n",
    "    # inner loop, means the end of range index will be 9. The value \n",
    "    # of index 9 will be 9-1, or 8.\n",
    "    for inner_loop in range(outer_loop):\n",
    "\n",
    "        # The printed result is the value of \"inner_loop\". Since  \n",
    "        # there aren’t any calculations in this loop, there is a \n",
    "        # simple shortcut for solving what the final value printed \n",
    "        # by the \"inner_loop\" will be. The solution is to simply use \n",
    "        # the value of the \"inner_loop\" index, which is 8.\n",
    "        print(inner_loop)\n",
    "        "
   ]
  },
  {
   "cell_type": "code",
   "execution_count": 4,
   "metadata": {},
   "outputs": [],
   "source": [
    "# This function should count down by -2 from 11 to 1, so that it only\n",
    "# prints odd numbers. \n",
    "\n",
    "# This range(11, -2) tells the for loop to start at 11 and end at index\n",
    "# position -2 (which corresponds to the numeric value of -1). Since the\n",
    "# third incremental or decremental value is missing, the loop will \n",
    "# increment by the default of +1 instead of the intended -2 decrement.\n",
    "# Starting at index position 11 and incrementing by +1 will end the loop \n",
    "# automatically, because the index is not counting down towards -2 as \n",
    "# the end of the range. \n",
    "\n",
    "# To fix this problem, the range() needs three parameters:\n",
    "# First parameter should be the starting index position of 11.\n",
    "# Second parameter should be the ending index position of 0 (value 1).\n",
    "# Third parameter should be decrementing by -2.\n",
    "# So, the range should be configured as range(11, 0, -2).\n",
    "\n",
    "# Fix this loop with the corrected range parameters and click Run.\n",
    "for n in range(11, -2):\n",
    "    if n % 2 != 0:\n",
    "        print(n, end=\" \")\n",
    "\n",
    "# Should print: 11, 9, 7, 5, 3, 1 once the problem is fixed.\n"
   ]
  },
  {
   "cell_type": "code",
   "execution_count": 5,
   "metadata": {},
   "outputs": [
    {
     "name": "stdout",
     "output_type": "stream",
     "text": [
      "18 15 12 9 6 3 0 "
     ]
    }
   ],
   "source": [
    "# For this example, the while loop will count down by threes starting \n",
    "# from 18 and ending at 0.\n",
    "starting_number = 18\n",
    "\n",
    "# The while loop will continue to loop until it reaches 0.\n",
    "while starting_number >= 0:\n",
    "\n",
    "    # To make the sequence of numbers easier to read, include a space\n",
    "    # between each number in the sequence. You can override the default \n",
    "    # behavior of the print() function by using the \"end=\" parameter with\n",
    "    # the print() function. The syntax for adding a space is: end=\" \" \n",
    "    print(starting_number, end=\" \")\n",
    "    \n",
    "    # Decrement the \"starting_number\" variable by -3.\n",
    "    starting_number -= 3\n",
    "\n",
    "# Should print 18 15 12 9 6 3 0 \n"
   ]
  },
  {
   "cell_type": "code",
   "execution_count": 6,
   "metadata": {},
   "outputs": [
    {
     "name": "stdout",
     "output_type": "stream",
     "text": [
      "The CEO has a 7-figure salary.\n"
     ]
    }
   ],
   "source": [
    "# This function accepts a CEO's salary as a variable. \n",
    "# It counts the number of digits in the salary and \n",
    "# returns the sentence like:\n",
    "# \"The CEO has a 6-figure salary.\"\n",
    "def X_figure(salary):\n",
    "    \n",
    "    # Initializes the counter as an integer.\n",
    "    tally = 0\n",
    "\n",
    "    # The if-statement checks if the variable \"salary\" \n",
    "    # is equal to 0.\n",
    "    if salary == 0:\n",
    "        # If true, then it increments the counter to \n",
    "        # show there is 1 digit in 0.\n",
    "        tally += 1\n",
    "\n",
    "    # The while loop starts to run while the \"salary\"\n",
    "    # is greater than or equal to 1 (the loop will \n",
    "    # not run if the \"salary\" is 0).\n",
    "    while salary >= 1:\n",
    "\n",
    "        # The body of the while loop counts the digits \n",
    "        # in \"salary\" by counting the number of times \n",
    "        # \"salary\" can be divided by 10 until \"salary\" \n",
    "        # is no longer >= 1.\n",
    "        salary = salary/10\n",
    "\n",
    "        # Add 1 to the counter to tally the number of \n",
    "        # times the loop runs.\n",
    "        tally += 1\n",
    "\n",
    "    # Return the results of the \"tally\" of the number\n",
    "    # of digits in \"salary\".\n",
    "    return tally\n",
    " \n",
    "# Call the X_figure function with 1 parameter, converted to a string,\n",
    "# inside a print function with additional strings.\n",
    "print(\"The CEO has a \" + str(X_figure(2300000)) + \"-figure salary.\")\n",
    "\n",
    "# Should print\"The CEO has a 7-figure salary.\"\n"
   ]
  },
  {
   "cell_type": "code",
   "execution_count": 7,
   "metadata": {},
   "outputs": [
    {
     "name": "stdout",
     "output_type": "stream",
     "text": [
      "Going up: 1 | 2 | 3 | 4\n",
      "Going down: 6 | 5 | 4 | 3 | 2\n"
     ]
    }
   ],
   "source": [
    "# This function will accept two integer variables: the floor\n",
    "# number that a passenger \"enter\"s an elevator and the floor\n",
    "# number the passenger is going to \"exit\". Then, the function\n",
    "# counts up or down from the two floor numbers.\n",
    "def elevator_floor(enter, exit):\n",
    "    # The \"floor\" variable will be used as a counter and to  \n",
    "    # print the floor numbers. The \"elevator_direction\"\n",
    "    # variable will hold the string \"Going up: \" or \n",
    "    # \"Going down: \" plus the count up or down of the \n",
    "    # \"floor\" numbers.\n",
    "    floor = enter\n",
    "    elevator_direction = \"\"\n",
    "\n",
    "    # If the passenger enters the elevator on a floor that  \n",
    "    # is higher than the destination floor:\n",
    "    if enter > exit:\n",
    "        \n",
    "        # Then the \"elevator_direction\" string will be \n",
    "        # initialized with the string \"Going down: \".\n",
    "        elevator_direction = \"Going down: \"\n",
    "\n",
    "        # While the \"floor\" number is greater than or  \n",
    "        # equal to the exit floor number:\n",
    "        while floor >= exit:\n",
    "            # The \"floor\" number is converted to a string \n",
    "            # and is appended to the string variable \n",
    "            # \"elevator_direction\".\n",
    "            elevator_direction += str(floor)\n",
    "\n",
    "            # If the \"floor\" number is still greater than  \n",
    "            # the exit floor number:\n",
    "            if floor > exit:\n",
    "\n",
    "                # A pipe | character is added between each  \n",
    "                # floor number in the string variable  \n",
    "                # \"elevator_direction\" to provide a visual  \n",
    "                # divider between numbers. The if-statement \n",
    "                # above (if floor > exit) prevents the pipe \n",
    "                # character from appearing after the \"floor\" \n",
    "                # number is no longer greater than the \"exit\" \n",
    "                # variable. \n",
    "                elevator_direction += \" | \"\n",
    "                \n",
    "                # Decrement the \"floor\" number as the elevator \n",
    "                # goes down.\n",
    "            floor -= 1\n",
    "\n",
    "    # Else, it is implied that the passenger is entering the  \n",
    "    # elevator on a floor that is lower than the destination \n",
    "    # floor.\n",
    "    else:\n",
    "\n",
    "        # The \"elevator_direction\" string will be initialized \n",
    "        # with the string \"Going up: \".\n",
    "        elevator_direction = \"Going up: \"\n",
    "        \n",
    "        # While the \"floor\" number is less than or equal to the \n",
    "        # \"exit\" floor number:\n",
    "        while floor <= exit:\n",
    "\n",
    "            # Convert the the \"floor\" number to a string and append \n",
    "            # it to the string variable \"elevator_direction\".\n",
    "            elevator_direction += str(floor)\n",
    "\n",
    "            # If the entry floor number is still less than the exit \n",
    "            # floor number:\n",
    "            if floor < exit:\n",
    "\n",
    "                # The pipe | character is added between each  \n",
    "                # floor number in the string variable  \n",
    "                # \"elevator_direction\" to provide a visual  \n",
    "                # divider between numbers. The if-statement \n",
    "                # above (if floor < exit) prevents the pipe \n",
    "                # character from appearing after the \"floor\" \n",
    "                # number is no longer less than the \"exit\" \n",
    "                # variable. \n",
    "                elevator_direction += \" | \"\n",
    "\n",
    "            # Increments the \"floor\" number as the elevator goes up.\n",
    "            floor += 1\n",
    "\n",
    "    # Returns the string holding the elevator direction (Going down or \n",
    "    # Going up) along with the floor countdown or count up.\n",
    "    return elevator_direction\n",
    "\n",
    "\n",
    "# Call the function with 2 integer parameters. \n",
    "print(elevator_floor(1,4)) # Should print Going up: 1 | 2 | 3 | 4\n",
    "print(elevator_floor(6,2)) # Should print Going down: 6 | 5 | 4 | 3 | 2\n"
   ]
  },
  {
   "cell_type": "markdown",
   "metadata": {},
   "source": [
    "# Week 3 gradded Assesment"
   ]
  },
  {
   "cell_type": "code",
   "execution_count": null,
   "metadata": {},
   "outputs": [],
   "source": [
    "#  Fill in the blanks to complete the function “digits(n)” to count how many \n",
    "# digits the given number has. For example: 25 has 2 digits and 144 has 3 digits. \n",
    "#  Tip: you can count the digits of a number by dividing it by 10 once per digit \n",
    "# until there are no digits left.\n",
    "def digits(n):\n",
    "    count = 0\n",
    "    if n == 0:\n",
    "      return 1\n",
    "    while (int(n/10) != 0): # Complete the while loop condition\n",
    "        # Complete the body of the while loop. This should include \n",
    "        # performing a calculation and incrementing a variable in the\n",
    "        # appropriate order.  \n",
    "        count += 1\n",
    "        n = int(n/10)\n",
    "    return count+1\n",
    "    \n",
    "print(digits(25))   # Should print 2\n",
    "print(digits(144))  # Should print 3\n",
    "print(digits(1000)) # Should print 4\n",
    "print(digits(0))    # Should print 1"
   ]
  },
  {
   "cell_type": "code",
   "execution_count": null,
   "metadata": {},
   "outputs": [],
   "source": [
    "# Fill in the blanks to complete the “multiplication_table” function. This \n",
    "# function should print a multiplication table, where each number is the result \n",
    "# of multiplying the first number of its row by the number at the top of its \n",
    "# column. Complete the range sequences in the nested loops so that \n",
    "# “multiplication_table(1, 3)” will print:\n",
    "\n",
    "# 1 2 3\n",
    "\n",
    "# 2 4 6\n",
    "\n",
    "# 3 6 9\n",
    "\n",
    "def multiplication_table(start, stop):\n",
    "    # Complete the outer loop range\n",
    "    for x in range(start, stop+1): \n",
    "         # Complete the inner loop range\n",
    "        for y in range(start, stop+1):\n",
    "            # Prints the value of \"x\" multiplied by \"y\" \n",
    "            # and inserts a space after each value\n",
    "            print(str(x*y), end=\" \")\n",
    "        # An empty print() function inserts a line break at the \n",
    "        # end of the row \n",
    "        print()\n",
    "\n",
    "\n",
    "multiplication_table(1, 3)\n",
    "# Should print the multiplication table shown above\n"
   ]
  },
  {
   "cell_type": "code",
   "execution_count": 9,
   "metadata": {},
   "outputs": [
    {
     "name": "stdout",
     "output_type": "stream",
     "text": [
      "Counting up: 1,2,3,4,5,6,7,8,9,10\n",
      "Counting down: 2,1\n",
      "Counting up: 5\n"
     ]
    }
   ],
   "source": [
    "#  Fill in the blanks to complete the “counter” function. This function \n",
    "# should count down from the “start” to “stop” variables when “start” is \n",
    "# bigger than “stop”. Otherwise, it should count up from “start” to “stop”. \n",
    "# Complete the code so that a function call like “counter(3, 1)” will \n",
    "# return “Counting down: 3, 2, 1” and “counter(2, 5)” will return “Counting up: 2, 3, 4, 5”.\n",
    "\n",
    "def counter(start, stop):\n",
    "    if start > stop:\n",
    "        return_string = \"Counting down: \"\n",
    "        while stop <= start: # Complete the while loop\n",
    "            return_string += str(start) # Add the numbers to the \"return_string\"\n",
    "            if start > stop:\n",
    "                return_string += \",\"\n",
    "            start -= 1 # Increment the appropriate variable\n",
    "    else:\n",
    "        return_string = \"Counting up: \"\n",
    "        while stop >= start: # Complete the while loop\n",
    "            return_string += str(start) # Add the numbers to the \"return_string\"\n",
    "            if start < stop:\n",
    "                return_string += \",\"\n",
    "            start += 1 # Increment the appropriate variable\n",
    "    return return_string\n",
    "\n",
    "\n",
    "print(counter(1, 10)) # Should be \"Counting up: 1,2,3,4,5,6,7,8,9,10\"\n",
    "print(counter(2, 1)) # Should be \"Counting down: 2,1\"\n",
    "print(counter(5, 5)) # Should be \"Counting up: 5\""
   ]
  },
  {
   "cell_type": "code",
   "execution_count": 10,
   "metadata": {},
   "outputs": [
    {
     "name": "stdout",
     "output_type": "stream",
     "text": [
      "1 3 5\n",
      "1 3 5 7 9\n",
      "1\n",
      "1 3\n",
      "\n"
     ]
    }
   ],
   "source": [
    "# Fill in the blanks to complete the “odd_numbers” function. This function \n",
    "# should return a space-separated string of all odd positive numbers, up to \n",
    "# and including the “maximum” variable that's passed into the function. \n",
    "# Complete the for loop so that a function call like “odd_numbers(6)” will \n",
    "# return the numbers “1 3 5”.\n",
    "\n",
    "def odd_numbers(maximum):\n",
    "    \n",
    "    return_string = \"\" # Initializes variable as a string\n",
    "\n",
    "    # Complete the for loop with a range that includes all \n",
    "    # odd numbers up to and including the \"maximum\" value.\n",
    "    for x in range(maximum+1): \n",
    "\n",
    "        # Complete the body of the loop by appending the odd number\n",
    "        # followed by a space to the \"return_string\" variable.\n",
    "        if x%2 != 0:\n",
    "            return_string += (str(x)+\" \")\n",
    "\n",
    "    # This .strip command will remove the final \" \" space \n",
    "    # at the end of the \"return_string\".\n",
    "    return return_string.strip()\n",
    "\n",
    "\n",
    "print(odd_numbers(6))  # Should be 1 3 5\n",
    "print(odd_numbers(10)) # Should be 1 3 5 7 9\n",
    "print(odd_numbers(1))  # Should be 1\n",
    "print(odd_numbers(3))  # Should be 1 3\n",
    "print(odd_numbers(0))  # No numbers displayed\n"
   ]
  },
  {
   "cell_type": "code",
   "execution_count": 11,
   "metadata": {},
   "outputs": [
    {
     "name": "stdout",
     "output_type": "stream",
     "text": [
      "0\n",
      "2\n",
      "4\n",
      "6\n",
      "8\n"
     ]
    }
   ],
   "source": [
    "for sum in range(5):\n",
    "    sum += sum\n",
    "    print(sum)"
   ]
  },
  {
   "cell_type": "code",
   "execution_count": 13,
   "metadata": {},
   "outputs": [
    {
     "name": "stdout",
     "output_type": "stream",
     "text": [
      "outer loop 2\n",
      "0\n",
      "outer loop 3\n",
      "0\n",
      "2\n",
      "outer loop 4\n",
      "0\n",
      "2\n",
      "outer loop 5\n",
      "0\n",
      "2\n",
      "4\n",
      "outer loop 6\n",
      "0\n",
      "2\n",
      "4\n"
     ]
    }
   ],
   "source": [
    "for outer_loop in range(2, 6+1):\n",
    "    print(\"outer loop\", outer_loop)\n",
    "    for inner_loop in range(outer_loop):\n",
    "        if inner_loop % 2 == 0:\n",
    "            print(inner_loop)"
   ]
  },
  {
   "cell_type": "code",
   "execution_count": null,
   "metadata": {},
   "outputs": [],
   "source": []
  }
 ],
 "metadata": {
  "kernelspec": {
   "display_name": "Python 3.7.0 64-bit",
   "language": "python",
   "name": "python3"
  },
  "language_info": {
   "codemirror_mode": {
    "name": "ipython",
    "version": 3
   },
   "file_extension": ".py",
   "mimetype": "text/x-python",
   "name": "python",
   "nbconvert_exporter": "python",
   "pygments_lexer": "ipython3",
   "version": "3.7.0"
  },
  "orig_nbformat": 4,
  "vscode": {
   "interpreter": {
    "hash": "d4f3b6a2a481da716a753d25a28eb6c120ed8e5e5a1bdf483d7f5016fd6841a7"
   }
  }
 },
 "nbformat": 4,
 "nbformat_minor": 2
}
