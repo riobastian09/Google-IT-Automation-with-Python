{
 "cells": [
  {
   "cell_type": "code",
   "execution_count": 4,
   "metadata": {},
   "outputs": [
    {
     "name": "stdout",
     "output_type": "stream",
     "text": [
      "Not There Yet, x=0\n",
      "Not There Yet, x=1\n",
      "Not There Yet, x=2\n",
      "Not There Yet, x=3\n",
      "Not There Yet, x=4\n",
      "You are at the place, where x=5\n"
     ]
    }
   ],
   "source": [
    "x = 0\n",
    "while x < 5:\n",
    "    print(\"Not There Yet, x=\" + str(x))\n",
    "    x = x+1\n",
    "print(\"You are at the place, where x=\" + str(x))"
   ]
  },
  {
   "cell_type": "code",
   "execution_count": null,
   "metadata": {},
   "outputs": [],
   "source": [
    "def attempts(n):\n",
    "    x = 1\n",
    "    while x <= n:\n",
    "        print(\"Attempt \" + str(x))\n",
    "        x += 1\n",
    "    print(\"Done\")\n",
    "    \n",
    "attempts(5)"
   ]
  },
  {
   "cell_type": "code",
   "execution_count": 6,
   "metadata": {},
   "outputs": [],
   "source": [
    "# username = get_username()\n",
    "# while not valid_username(username):\n",
    "#     print(\"Invalid Username\")\n",
    "#     username = get_username()"
   ]
  },
  {
   "cell_type": "code",
   "execution_count": null,
   "metadata": {},
   "outputs": [],
   "source": [
    "def count_down(start_number):\n",
    "  current = start_number\n",
    "  while (current > 0):\n",
    "    print(current)\n",
    "    current -= 1\n",
    "  print(\"Zero!\")\n",
    "\n",
    "count_down(3)"
   ]
  },
  {
   "cell_type": "code",
   "execution_count": 10,
   "metadata": {},
   "outputs": [
    {
     "name": "stdout",
     "output_type": "stream",
     "text": [
      "50.0\n",
      "25.0\n"
     ]
    }
   ],
   "source": [
    "# Break The Infinite Loop\n",
    "x = 100\n",
    "while x != 0 and x % 2 == 0:\n",
    "    x=x/2\n",
    "    print(x)"
   ]
  },
  {
   "cell_type": "code",
   "execution_count": 11,
   "metadata": {},
   "outputs": [
    {
     "name": "stdout",
     "output_type": "stream",
     "text": [
      "1\n",
      "2\n",
      "3\n",
      "4\n",
      "5\n"
     ]
    }
   ],
   "source": [
    "def print_range(start, end):\n",
    "\t# Loop through the numbers from start to end\n",
    "\tn = start\n",
    "\twhile n <= end:\n",
    "\t\tprint(n)\n",
    "\t\tn += 1\n",
    "\n",
    "print_range(1, 5)  # Should print 1 2 3 4 5 (each number on its own line) "
   ]
  },
  {
   "cell_type": "code",
   "execution_count": 12,
   "metadata": {},
   "outputs": [
    {
     "name": "stdout",
     "output_type": "stream",
     "text": [
      "5\n",
      "10\n",
      "15\n",
      "20\n",
      "25\n",
      "30\n",
      "35\n",
      "40\n",
      "45\n",
      "50\n",
      "Done\n"
     ]
    }
   ],
   "source": [
    "multiplier = 1\n",
    "result = multiplier*5\n",
    "while result <= 50:\n",
    "  print(result)\n",
    "  multiplier += 1\n",
    "  result = multiplier*5\n",
    "print(\"Done\")\n",
    "\n",
    "# This while loop prints the multiples of 5 between 1 and 50. The\n",
    "# \"multiplier\" variable is initialized with the starting value of 1. \n",
    "# The \"result\" variable is initialized with the value of the \n",
    "# \"multiplier\" variable times 5. \n",
    " \n",
    "# The while loop specifies that the loop must iterate while it is True \n",
    "# that the \"result\" is less than or equal to 50. Within the while loop, \n",
    "# the code tells the Python interpreter to print the value of the \n",
    "# \"result\" variable. Then, the \"multiplier\" is incremented by 1 and the\n",
    "# \"result\" is assigned the new value of the \"multiplier\" times 5. \n",
    " \n",
    "# The end of the while loop is indicated by the indentation of the next \n",
    "# line of code moving one tab to the left. At this point, the Python\n",
    "# interpreter automatically loops back to the beginning of the while\n",
    "# loop to check the condition again with the new value of the \"result\"\n",
    "# variable. When the while loop condition becomes False (meaning\n",
    "# \"result\" is no longer less than or equal to 50), the interpreter exits\n",
    "# the loop and reads the next line of code outside of the loop. In this \n",
    "# case, that next line tells the interpreter to print the string \"Done\". \n",
    " \n",
    "# Click the \"Run\" button to check the result of this while loop.  "
   ]
  },
  {
   "cell_type": "code",
   "execution_count": 13,
   "metadata": {},
   "outputs": [
    {
     "name": "stdout",
     "output_type": "stream",
     "text": [
      "0\n",
      "2\n",
      "4\n",
      "8\n"
     ]
    }
   ],
   "source": [
    "# This function counts the number of integer factors for a \n",
    "# \"given_number\" variable, passed through the function’s parameters.\n",
    "# The \"count\" return value includes the \"given_number\" itself as a \n",
    "# factor (n*1). \n",
    "def count_factors(given_number):\n",
    " \n",
    "  # To include the \"given_number\" variable as a \"factor\", initialize\n",
    "  # the \"factor\" variable with the value 1 (if the \"factor\" variable\n",
    "  # were to start at 2, the \"given_number\" itself would be excluded). \n",
    "  factor = 1\n",
    "  count = 1\n",
    " \n",
    "  # This \"if\" block will run if the \"given_number\" equals 0.\n",
    "  if given_number == 0:\n",
    "    # If True, the return value will be 0 factors. \n",
    "    return 0\n",
    " \n",
    "  # The while loop will run while the \"factor\" is still less than\n",
    "  # the \"given_number\" variable.\n",
    "  while factor < given_number:\n",
    "    # This \"if\" block checks if the \"given_number\" can be divided by\n",
    "    # the \"factor\" variable without leaving a remainder. The modulo\n",
    "    # operator % is used to test for a remainder.\n",
    "    if given_number % factor == 0:\n",
    "      # If True, then the \"factor\" variable is added to the count of\n",
    "      # the \"given_number\"’s integer factors.\n",
    "      count += 1\n",
    "    # When exiting the if block, increment the \"factor\" variable by 1\n",
    "    # to divide the \"given_number\" variable by a new \"factor\" value\n",
    "    # inside the while loop.\n",
    "    factor += 1\n",
    " \n",
    "  # When the interpreter exits either the while loop or the top if\n",
    "  # block, it will return the value of the \"count\" variable.\n",
    "  return count\n",
    " \n",
    "print(count_factors(0)) # Count value will be 0\n",
    "print(count_factors(3)) # Should count 2 factors (1x3)\n",
    "print(count_factors(10)) # Should count 4 factors (1x10, 2x5)\n",
    "print(count_factors(24)) # Should count 8 factors (1x24, 2x12, 3x8,\n",
    "# and 4x6). "
   ]
  },
  {
   "cell_type": "code",
   "execution_count": 14,
   "metadata": {},
   "outputs": [
    {
     "name": "stdout",
     "output_type": "stream",
     "text": [
      "5 + 1 = 6\n",
      "5 + 2 = 7\n",
      "5 + 3 = 8\n",
      "5 + 4 = 9\n",
      "5 + 5 = 10\n",
      "17 + 1 = 18\n",
      "17 + 2 = 19\n",
      "17 + 3 = 20\n"
     ]
    }
   ],
   "source": [
    "# This function outputs an addition table. It is written to end after\n",
    "# printing 5 lines of the addition table, but it will break out of the\n",
    "# loop if the \"my_sum\" variable exceeds 20. \n",
    " \n",
    "# The function accepts a \"given_number\" variable through its \n",
    "# parameters.\n",
    "def addition_table(given_number):\n",
    " \n",
    "    # The \"iterated_number\" and \"my_sum\" variables are initialized with\n",
    "    # the value of 1. Although the \"my_sum\" variable does not need any\n",
    "    # specific initial value, it still must be assigned a data type\n",
    "    # before being used in the while loop. By initializing \"my_sum\"\n",
    "    # with any integer, the data type will be set to int.\n",
    "    iterated_number = 1\n",
    "    my_sum = 1\n",
    " \n",
    "    # The while loop will run while it is True that the   \n",
    "    # \"iterated_number\" is less than or equal to 5.\n",
    "    while iterated_number <= 5:\n",
    " \n",
    "        # The \"my_sum\" variable is assigned the value of the\n",
    "        # \"given_number\" plus the \"iterated_number\" variables.\n",
    "        my_sum = given_number + iterated_number\n",
    " \n",
    "        # Test to see if the \"my_sum\" variable is greater than 20.\n",
    "        if my_sum > 20:\n",
    "            # If True, then use the break keyword to exit the loop. \n",
    "            break\n",
    "        # If False, the Python interpreter will move to the next line \n",
    "        # in the while loop after the if-statement has ended.  \n",
    " \n",
    "        # The print function will output the \"given_number\" plus\n",
    "        # the \"iterated_number\" equals \"my_sum\".\n",
    "        print(str(given_number), \"+\", str(iterated_number), \"=\", str(my_sum))\n",
    " \n",
    "        # Increment the \"iterated_number\" before the while loop starts\n",
    "        # over again to print a new \"my_sum\" value.\n",
    "        iterated_number += 1\n",
    " \n",
    " \n",
    "addition_table(5)\n",
    "addition_table(17)\n",
    "addition_table(30)\n",
    "\n",
    "# Expected output:\n",
    "# 5 + 1 = 6\n",
    "# 5 + 2 = 7\n",
    "# 5 + 3 = 8\n",
    "# 5 + 4 = 9\n",
    "# 5 + 5 = 10\n",
    "# 17 + 1 = 18\n",
    "# 17 + 2 = 19\n",
    "# 17 + 3 = 20\n",
    "# None\n"
   ]
  },
  {
   "cell_type": "markdown",
   "metadata": {},
   "source": [
    "# Practice Quiz"
   ]
  },
  {
   "cell_type": "code",
   "execution_count": 19,
   "metadata": {},
   "outputs": [
    {
     "name": "stdout",
     "output_type": "stream",
     "text": [
      "0\n",
      "1\n",
      "55\n",
      "114\n"
     ]
    }
   ],
   "source": [
    "# Fill in the blanks to complete the while loop so that it returns the sum \n",
    "# of all the divisors of a number, without including the number itself. As \n",
    "# a reminder, a divisor is a number that divides into another without a \n",
    "# remainder. To do this, you will need to:\n",
    "\n",
    "# 1. Initialize the \"divisor\" and \"total\" variables with starting values\n",
    "# 2. Complete the while loop condition\n",
    "# 3. Increment the \"divisor\" variable inside the while loop\n",
    "# 4. Complete the return statement\n",
    "\n",
    "# =========================================================================\n",
    "# Fill in the blanks so that the while loop continues to run while the\n",
    "# \"divisor\" variable is less than the \"number\" parameter.\n",
    "\n",
    "def sum_divisors(number):\n",
    "# Initialize the appropriate variables\n",
    "  divisor = 1\n",
    "  total = 0\n",
    "\n",
    "  # Avoid dividing by 0 and negative numbers \n",
    "  # in the while loop by exiting the function\n",
    "  # if \"number\" is less than one\n",
    "  if number < 1:\n",
    "    return 0 \n",
    "\n",
    "  # Complete the while loop\n",
    "  while divisor < number:\n",
    "    if number % divisor == 0:\n",
    "      total += divisor\n",
    "    # Increment the correct variable\n",
    "    divisor += 1\n",
    "\n",
    "  # Return the correct variable \n",
    "  return total\n",
    "\n",
    "\n",
    "print(sum_divisors(0)) # Should print 0\n",
    "print(sum_divisors(3)) # Should print 1\n",
    "# 1\n",
    "print(sum_divisors(36)) # Should print 1+2+3+4+6+9+12+18\n",
    "# 55\n",
    "print(sum_divisors(102)) # Should print 1+2+3+6+17+34+51\n",
    "# 114"
   ]
  },
  {
   "cell_type": "code",
   "execution_count": 20,
   "metadata": {},
   "outputs": [
    {
     "name": "stdout",
     "output_type": "stream",
     "text": [
      "3x1=3\n",
      "3x2=6\n",
      "3x3=9\n",
      "3x4=12\n",
      "3x5=15\n",
      "5x1=5\n",
      "5x2=10\n",
      "5x3=15\n",
      "5x4=20\n",
      "5x5=25\n",
      "8x1=8\n",
      "8x2=16\n",
      "8x3=24\n"
     ]
    }
   ],
   "source": [
    "# Fill in the blanks to complete the function, which should output a multiplication \n",
    "# table. The function accepts a variable “number” through its parameters. This “number” \n",
    "# variable should be multiplied by the numbers 1 through 5, and printed in a format \n",
    "# similar to “1x6=6” (“number” x “multiplier” = “result”). The code should also \n",
    "# limit the “result” to not exceed 25. To satisfy these conditions, you will need to:\n",
    "\n",
    "# 1. Initialize the “multiplier\" variable with the starting value\n",
    "# 2. Complete the while loop condition\n",
    "# 3. Add an exit point for the loop\n",
    "# 4. Increment the “multiplier\" variable inside the while loop\n",
    "\n",
    "# =========================================================================\n",
    "\n",
    "def multiplication_table(number):\n",
    "    # Initialize the appropriate variable\n",
    "    multiplier = 1\n",
    "\n",
    "    # Complete the while loop condition.\n",
    "    while multiplier <= 5:\n",
    "        result = number * multiplier \n",
    "        if  result > 25 :\n",
    "            # Enter the action to take if the result is greater than 25\n",
    "            break\n",
    "        print(str(number) + \"x\" + str(multiplier) + \"=\" + str(result))\n",
    "        \n",
    "        # Increment the appropriate variable\n",
    "        multiplier += 1\n",
    "\n",
    "\n",
    "multiplication_table(3) \n",
    "# Should print: \n",
    "# 3x1=3 \n",
    "# 3x2=6 \n",
    "# 3x3=9 \n",
    "# 3x4=12 \n",
    "# 3x5=15\n",
    "\n",
    "multiplication_table(5) \n",
    "# Should print: \n",
    "# 5x1=5\n",
    "# 5x2=10\n",
    "# 5x3=15\n",
    "# 5x4=20\n",
    "# 5x5=25\n",
    "\n",
    "multiplication_table(8) \n",
    "# Should print:\n",
    "# 8x1=8\n",
    "# 8x2=16\n",
    "# 8x3=24\n"
   ]
  }
 ],
 "metadata": {
  "kernelspec": {
   "display_name": "Python 3.7.0 64-bit",
   "language": "python",
   "name": "python3"
  },
  "language_info": {
   "codemirror_mode": {
    "name": "ipython",
    "version": 3
   },
   "file_extension": ".py",
   "mimetype": "text/x-python",
   "name": "python",
   "nbconvert_exporter": "python",
   "pygments_lexer": "ipython3",
   "version": "3.7.0"
  },
  "orig_nbformat": 4,
  "vscode": {
   "interpreter": {
    "hash": "d4f3b6a2a481da716a753d25a28eb6c120ed8e5e5a1bdf483d7f5016fd6841a7"
   }
  }
 },
 "nbformat": 4,
 "nbformat_minor": 2
}
