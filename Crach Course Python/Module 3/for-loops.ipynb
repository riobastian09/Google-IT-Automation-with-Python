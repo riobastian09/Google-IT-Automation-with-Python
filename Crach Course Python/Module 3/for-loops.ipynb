{
 "cells": [
  {
   "cell_type": "code",
   "execution_count": 1,
   "metadata": {},
   "outputs": [
    {
     "name": "stdout",
     "output_type": "stream",
     "text": [
      "0\n",
      "1\n",
      "2\n",
      "3\n",
      "4\n"
     ]
    }
   ],
   "source": [
    "for x in range(5):\n",
    "    print(x)"
   ]
  },
  {
   "cell_type": "code",
   "execution_count": 3,
   "metadata": {},
   "outputs": [
    {
     "name": "stdout",
     "output_type": "stream",
     "text": [
      "Total Sum: 153 - Average: 25.5\n"
     ]
    }
   ],
   "source": [
    "values = [12,34,5,23,56,23]\n",
    "\n",
    "sum = 0\n",
    "length = 0\n",
    "\n",
    "for value in values:\n",
    "    sum += value\n",
    "    length += 1\n",
    "\n",
    "print(\"Total Sum: \" + str(sum) + \" - Average: \" + str(sum/length))"
   ]
  },
  {
   "cell_type": "code",
   "execution_count": 5,
   "metadata": {},
   "outputs": [
    {
     "name": "stdout",
     "output_type": "stream",
     "text": [
      "362880\n"
     ]
    }
   ],
   "source": [
    "product = 1\n",
    "for n in range (1,10):\n",
    "    product = product*n\n",
    "\n",
    "print(product)"
   ]
  },
  {
   "cell_type": "code",
   "execution_count": 7,
   "metadata": {},
   "outputs": [
    {
     "name": "stdout",
     "output_type": "stream",
     "text": [
      "0 -17.78\n",
      "10 -12.22\n",
      "20 -6.67\n",
      "30 -1.11\n",
      "40 4.44\n",
      "50 10.0\n",
      "60 15.56\n",
      "70 21.11\n",
      "80 26.67\n",
      "90 32.22\n",
      "100 37.78\n"
     ]
    }
   ],
   "source": [
    "def to_celcius(x):\n",
    "    return (x-32)*5/9\n",
    "\n",
    "for  x in range (0,101,10):\n",
    "    print(x, round(to_celcius(x),2))    #Round berfungsi untuk membulatkan nilai ke 2 angka desimal"
   ]
  },
  {
   "cell_type": "code",
   "execution_count": null,
   "metadata": {},
   "outputs": [],
   "source": [
    "# This loop iterates on the value of the \"n\" variable in a range\n",
    "# of 0 to 10 (the value of the end-of-range index 11 is excluded).\n",
    "# The incremental value for the loop is 2. The print() function will \n",
    "# output the resulting value of \"n\" as the loop counts from 0 to 10 \n",
    "# (end-of-range index 11) in incremental steps of 2. This is one \n",
    "# method that can be used in Python to print a list of even numbers.\n",
    "\n",
    "\n",
    "for n in range(0,11,2):\n",
    "    print(n)\n",
    "\n",
    "\n",
    "# The loop should print 0, 2, 4, 6, 8, 10\n"
   ]
  },
  {
   "cell_type": "code",
   "execution_count": 8,
   "metadata": {},
   "outputs": [
    {
     "name": "stdout",
     "output_type": "stream",
     "text": [
      "6\n",
      "9\n",
      "12\n",
      "15\n",
      "18\n",
      "21\n"
     ]
    }
   ],
   "source": [
    "# This loop iterates on the value of the \"number\" variable in a range\n",
    "# of 2 to 7+1 (the value of the end-of-range index 7 is excluded, so \n",
    "# +1 has been added to the parameter to include the numeric value 7 in \n",
    "# the range). The incremental value for the loop is the default of +1.\n",
    "# The print() function will output the resulting value of \"number\" \n",
    "# multiplied by 3.\n",
    "\n",
    "\n",
    "for number in range(2,7+1):\n",
    "    print(number*3)\n",
    "\n",
    "\n",
    "# The loop should print 6, 9, 12, 15, 18, 21"
   ]
  },
  {
   "cell_type": "code",
   "execution_count": 9,
   "metadata": {},
   "outputs": [
    {
     "name": "stdout",
     "output_type": "stream",
     "text": [
      "2\n",
      "1\n",
      "0\n",
      "-1\n"
     ]
    }
   ],
   "source": [
    "# This loop iterates on the value of the \"x\" variable in a range\n",
    "# of 2 to -1 (the end-of-range index -2 is excluded). The third \n",
    "# parameter is also a negative number, making it a decremental value\n",
    "# of -1. The print() function will output the resulting value of\n",
    "# \"x\" as it starts at 2 and counts down to -1 (index -2).\n",
    "\n",
    "\n",
    "for x in range(2, -2, -1):\n",
    "    print(x)\n",
    "\n",
    "\n",
    "# The loop should print 2, 1, 0, -1"
   ]
  },
  {
   "cell_type": "code",
   "execution_count": null,
   "metadata": {},
   "outputs": [],
   "source": []
  }
 ],
 "metadata": {
  "kernelspec": {
   "display_name": "Python 3.7.0 64-bit",
   "language": "python",
   "name": "python3"
  },
  "language_info": {
   "codemirror_mode": {
    "name": "ipython",
    "version": 3
   },
   "file_extension": ".py",
   "mimetype": "text/x-python",
   "name": "python",
   "nbconvert_exporter": "python",
   "pygments_lexer": "ipython3",
   "version": "3.7.0"
  },
  "orig_nbformat": 4,
  "vscode": {
   "interpreter": {
    "hash": "d4f3b6a2a481da716a753d25a28eb6c120ed8e5e5a1bdf483d7f5016fd6841a7"
   }
  }
 },
 "nbformat": 4,
 "nbformat_minor": 2
}
