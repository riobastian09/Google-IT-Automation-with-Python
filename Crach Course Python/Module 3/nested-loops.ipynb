{
 "cells": [
  {
   "cell_type": "markdown",
   "metadata": {},
   "source": [
    "# LOOP INSIDE LOOP"
   ]
  },
  {
   "cell_type": "code",
   "execution_count": 2,
   "metadata": {},
   "outputs": [
    {
     "name": "stdout",
     "output_type": "stream",
     "text": [
      "[0|0] [0|1] [0|2] [0|3] [0|4] [0|5] [0|6] \n",
      "[1|1] [1|2] [1|3] [1|4] [1|5] [1|6] \n",
      "[2|2] [2|3] [2|4] [2|5] [2|6] \n",
      "[3|3] [3|4] [3|5] [3|6] \n",
      "[4|4] [4|5] [4|6] \n",
      "[5|5] [5|6] \n",
      "[6|6] \n"
     ]
    }
   ],
   "source": [
    "for left in range(7):\n",
    "    for right in range(left, 7):\n",
    "        print(\"[\" + str(left) + \"|\" + str(right) + \"]\", end = \" \")\n",
    "    print()"
   ]
  },
  {
   "cell_type": "code",
   "execution_count": 6,
   "metadata": {},
   "outputs": [
    {
     "name": "stdout",
     "output_type": "stream",
     "text": [
      "Rio vs Wolver\n",
      "Rio vs Pandas\n",
      "Rio vs Unicorn\n",
      "Wolver vs Rio\n",
      "Wolver vs Pandas\n",
      "Wolver vs Unicorn\n",
      "Pandas vs Rio\n",
      "Pandas vs Wolver\n",
      "Pandas vs Unicorn\n",
      "Unicorn vs Rio\n",
      "Unicorn vs Wolver\n",
      "Unicorn vs Pandas\n"
     ]
    }
   ],
   "source": [
    "teams = ['Rio', 'Wolver', 'Pandas', 'Unicorn']\n",
    "for home_team in teams:\n",
    "    for away_team in teams:\n",
    "        if home_team != away_team:\n",
    "            print(home_team + \" vs \" + away_team)"
   ]
  },
  {
   "cell_type": "code",
   "execution_count": 11,
   "metadata": {},
   "outputs": [
    {
     "name": "stdout",
     "output_type": "stream",
     "text": [
      "0\n",
      "1\n",
      "2\n",
      "3\n",
      "4\n",
      "-----\n",
      "5\n"
     ]
    }
   ],
   "source": [
    "# Error common mistake\n",
    "'''\n",
    "for x in 25:\n",
    "    print(x)\n",
    "'''\n",
    "\n",
    "# Solve this use range\n",
    "for x in range(5):\n",
    "    print(x)\n",
    "\n",
    "print(\"-----\")\n",
    "\n",
    "# if u use list, so it will be only print 5. Cause tere only 1 element in list that 5\n",
    "for x in [5]:\n",
    "    print(x)"
   ]
  },
  {
   "cell_type": "code",
   "execution_count": 12,
   "metadata": {},
   "outputs": [
    {
     "name": "stdout",
     "output_type": "stream",
     "text": [
      "Hi Rio\n",
      "Hi Bastian\n",
      "Hi Jane\n",
      "Hi John\n",
      "Hi Other\n",
      "Hi R\n",
      "Hi I\n",
      "Hi O\n",
      "Hi  \n",
      "Hi B\n",
      "Hi A\n",
      "Hi S\n",
      "Hi T\n",
      "Hi I\n",
      "Hi A\n",
      "Hi N\n"
     ]
    }
   ],
   "source": [
    "def greet_friends(friends):\n",
    "    for friend in friends:\n",
    "        print(\"Hi \" + friend)\n",
    "\n",
    "greet_friends([\"Rio\", \"Bastian\", \"Jane\", \"John\", \"Other\"])\n",
    "greet_friends(\"RIO BASTIAN\")"
   ]
  },
  {
   "cell_type": "code",
   "execution_count": null,
   "metadata": {},
   "outputs": [],
   "source": [
    "# This loop iterates on the value of the \"number\" variable in a range\n",
    "# of 1 to 6+1 (the upper range limit of 6 is excluded, so +1 has\n",
    "# been added to it to include 6 in the range). The incremental value\n",
    "# for the loop is 2 (number+2). The print() function will output the\n",
    "# resulting value of \"number\" multiplied by 3.\n",
    "\n",
    "\n",
    "for number in range(1,6+1,2):\n",
    "    print(number*3)\n",
    "\n",
    "\n",
    "# The loop should print 3, 9, 15"
   ]
  },
  {
   "cell_type": "code",
   "execution_count": null,
   "metadata": {},
   "outputs": [],
   "source": [
    "# This loop iterates on the value of the \"number\" variable in a range\n",
    "# of 2 to 7 (the upper range limit of 8 is excluded). The print() \n",
    "# function will output the resulting value of \"number\" squared.\n",
    "\n",
    "\n",
    "for number in range(2,8):\n",
    "    print(number**2)\n",
    "\n",
    "\n",
    "# The loop should print 4, 9, 16, 25, 36, 49"
   ]
  },
  {
   "cell_type": "code",
   "execution_count": null,
   "metadata": {},
   "outputs": [],
   "source": [
    "for x in sequence:\n",
    "    # start of the outer loop body\n",
    "    for y in sequence:\n",
    "        # start of the inner loop body\n",
    "\n",
    "        # end of of the inner loop body\n",
    "    # continue body of the outer loop\n",
    "    # end of the outer loop body\n"
   ]
  },
  {
   "cell_type": "code",
   "execution_count": null,
   "metadata": {},
   "outputs": [],
   "source": [
    "# This code demonstrates the outer and inner loop iterations of a pair \n",
    "# of nested for loops. Click \"Run\" to see the results. The outer loop\n",
    "# will run twice for the range pointer positions [0, 1] in range(2).\n",
    "# The inner loop will run 4 times for the range pointer positions \n",
    "# [0, 1, 2, 3] in range(3+1) or range(4) each time the outer loop runs.\n",
    "# So, the inner loop will execute 8 times in total.\n",
    "\n",
    "\n",
    "for x in range(2):\n",
    "    print(\"This is the outer loop iteration number \" + str(x))\n",
    "    for y in range(3+1):\n",
    "        print(\"Inner loop iteration number \" + str(y))\n",
    "    print(\"Exit inner loop\") "
   ]
  },
  {
   "cell_type": "code",
   "execution_count": null,
   "metadata": {},
   "outputs": [],
   "source": [
    "for x in sequence:\n",
    "    # start of body of for loop\n",
    "    if condition is true:\n",
    "        # start of body of if-statement\n",
    "\n",
    "        # end of body of if-statement\n",
    "    # continue body of for loop\n",
    "    # end of body of for loop"
   ]
  },
  {
   "cell_type": "code",
   "execution_count": null,
   "metadata": {},
   "outputs": [],
   "source": [
    "# This for loop iterates through the numbers 0 to 6. The if statement\n",
    "# uses the modulo operator to test if the \"x\" variable is divisible by\n",
    "# 2. If True, the if statement will print the value of \"x\" and exit\n",
    "# back into the for loop for the next iteration of \"x\". Since no \n",
    "# incremental value is specified in the range() parameters, the default\n",
    "# increment is +1. \n",
    "\n",
    "\n",
    "for x in range(7):\n",
    "    if x % 2 == 0:\n",
    "        print(x)\n",
    "\n",
    "\n",
    "# The loop should print 0, 2, 4, 6"
   ]
  },
  {
   "cell_type": "code",
   "execution_count": 13,
   "metadata": {},
   "outputs": [
    {
     "name": "stdout",
     "output_type": "stream",
     "text": [
      "12\n",
      "18\n",
      "24\n",
      "30\n",
      "36\n"
     ]
    }
   ],
   "source": [
    "for n in range(6,18+1,3):\n",
    "    print(n*2)"
   ]
  },
  {
   "cell_type": "code",
   "execution_count": 14,
   "metadata": {},
   "outputs": [
    {
     "name": "stdout",
     "output_type": "stream",
     "text": [
      "0\n",
      "2\n",
      "4\n",
      "6\n",
      "8\n",
      "10\n",
      "12\n",
      "14\n",
      "16\n",
      "18\n"
     ]
    }
   ],
   "source": [
    "for n in range(19):\n",
    "    if n % 2 == 0:\n",
    "        print(n)"
   ]
  },
  {
   "cell_type": "code",
   "execution_count": null,
   "metadata": {},
   "outputs": [],
   "source": []
  }
 ],
 "metadata": {
  "kernelspec": {
   "display_name": "Python 3.7.0 64-bit",
   "language": "python",
   "name": "python3"
  },
  "language_info": {
   "codemirror_mode": {
    "name": "ipython",
    "version": 3
   },
   "file_extension": ".py",
   "mimetype": "text/x-python",
   "name": "python",
   "nbconvert_exporter": "python",
   "pygments_lexer": "ipython3",
   "version": "3.7.0"
  },
  "orig_nbformat": 4,
  "vscode": {
   "interpreter": {
    "hash": "d4f3b6a2a481da716a753d25a28eb6c120ed8e5e5a1bdf483d7f5016fd6841a7"
   }
  }
 },
 "nbformat": 4,
 "nbformat_minor": 2
}
