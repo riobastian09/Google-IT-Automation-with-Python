{
 "cells": [
  {
   "cell_type": "code",
   "execution_count": 6,
   "metadata": {},
   "outputs": [
    {
     "name": "stdout",
     "output_type": "stream",
     "text": [
      "Factorial called with 4\n",
      "Factorial called with 3\n",
      "Factorial called with 2\n",
      "Factorial called with 1\n",
      "Returning 1\n",
      "Returning 2 for factorial of 2\n",
      "Returning 6 for factorial of 3\n",
      "Returning 24 for factorial of 4\n"
     ]
    },
    {
     "data": {
      "text/plain": [
       "24"
      ]
     },
     "execution_count": 6,
     "metadata": {},
     "output_type": "execute_result"
    }
   ],
   "source": [
    "def factorial(n):\n",
    "    print(\"Factorial called with \" + str(n))\n",
    "    if n < 2:\n",
    "        print(\"Returning 1\")\n",
    "        return 1\n",
    "    result = n*factorial(n-1)\n",
    "    print(\"Returning \" + str(result) + \" for factorial of \" + str(n))\n",
    "    return result\n",
    "\n",
    "factorial(4)\n",
    "# MAX 1000X ITERASI"
   ]
  },
  {
   "cell_type": "code",
   "execution_count": 9,
   "metadata": {},
   "outputs": [
    {
     "name": "stdout",
     "output_type": "stream",
     "text": [
      "0\n",
      "6\n",
      "15\n"
     ]
    }
   ],
   "source": [
    "# The function sum_positive_numbers should return the \n",
    "# sum of all positive numbers between the number n \n",
    "# received and 1. For example, when n is 3 it should \n",
    "# return 1+2+3=6, and when n is 5 it should return \n",
    "# 1+2+3+4+5=15. Fill in the gaps to make this work:\n",
    "\n",
    "def sum_positive_numbers(n):\n",
    "    # The base case is n being smaller than 1\n",
    "    if n < 1:\n",
    "        return n\n",
    "\n",
    "    # The recursive case is adding this number to \n",
    "    # the sum of the numbers smaller than this one.\n",
    "    return n + sum_positive_numbers(n-1)\n",
    "\n",
    "print(sum_positive_numbers(0)) # Should be 0\n",
    "print(sum_positive_numbers(3)) # Should be 6\n",
    "print(sum_positive_numbers(5)) # Should be 15"
   ]
  },
  {
   "cell_type": "markdown",
   "metadata": {},
   "source": [
    "# Practice Quiz : Recursion"
   ]
  },
  {
   "cell_type": "code",
   "execution_count": 10,
   "metadata": {},
   "outputs": [
    {
     "name": "stdout",
     "output_type": "stream",
     "text": [
      "True\n",
      "True\n",
      "False\n"
     ]
    }
   ],
   "source": [
    "# Fill in the blanks to make the is_power_of function return \n",
    "# whether the number is a power of the given base. Note: base \n",
    "# is assumed to be a positive number. Tip: for functions that \n",
    "# return a boolean value, you can return the result of a comparison.\n",
    "\n",
    "def is_power_of(number, base):\n",
    "  # Base case: when number is smaller than base.\n",
    "  if number < base:\n",
    "    # If number is equal to 1, it's a power (base**0).\n",
    "    return number == 1\n",
    "\n",
    "  # Recursive case: keep dividing number by base.\n",
    "  return is_power_of(number/base, base)\n",
    "\n",
    "print(is_power_of(8,2)) # Should be True\n",
    "print(is_power_of(64,4)) # Should be True\n",
    "print(is_power_of(70,10)) # Should be False"
   ]
  },
  {
   "cell_type": "code",
   "execution_count": null,
   "metadata": {},
   "outputs": [],
   "source": []
  }
 ],
 "metadata": {
  "kernelspec": {
   "display_name": "Python 3.7.0 64-bit",
   "language": "python",
   "name": "python3"
  },
  "language_info": {
   "codemirror_mode": {
    "name": "ipython",
    "version": 3
   },
   "file_extension": ".py",
   "mimetype": "text/x-python",
   "name": "python",
   "nbconvert_exporter": "python",
   "pygments_lexer": "ipython3",
   "version": "3.7.0"
  },
  "orig_nbformat": 4,
  "vscode": {
   "interpreter": {
    "hash": "d4f3b6a2a481da716a753d25a28eb6c120ed8e5e5a1bdf483d7f5016fd6841a7"
   }
  }
 },
 "nbformat": 4,
 "nbformat_minor": 2
}
