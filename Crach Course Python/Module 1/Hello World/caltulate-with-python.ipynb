{
 "cells": [
  {
   "cell_type": "code",
   "execution_count": 1,
   "metadata": {},
   "outputs": [
    {
     "name": "stdout",
     "output_type": "stream",
     "text": [
      "9\n",
      "63\n",
      "-0.25\n",
      "0.3333333333333333\n",
      "42.0\n",
      "1024\n",
      "2.25\n"
     ]
    }
   ],
   "source": [
    "print(4+5)\n",
    "print(9*7)\n",
    "print(-1/4)\n",
    "print(1/3)\n",
    "print(((2050/5)-32)/9)\n",
    "print(2**10)            #2^10\n",
    "print(((1+2)*3)/4)      #question in video"
   ]
  },
  {
   "cell_type": "code",
   "execution_count": 2,
   "metadata": {},
   "outputs": [
    {
     "name": "stdout",
     "output_type": "stream",
     "text": [
      "1.618033988749895\n"
     ]
    }
   ],
   "source": [
    "# Question in Practice Quiz: Hello World\n",
    "\"\"\"Replace the ___ placeholder and calculate the Golden ratio: (1+sqrt(5))/2\n",
    "Tip: to calculate the square root of a number x, you can use x**(1/2).\n",
    "\"\"\"\n",
    "ratio = (1+(5**(1/2)))/2\n",
    "print(ratio)"
   ]
  },
  {
   "cell_type": "code",
   "execution_count": 3,
   "metadata": {},
   "outputs": [
    {
     "name": "stdout",
     "output_type": "stream",
     "text": [
      "I love Python!\n",
      "360\n",
      "1440\n",
      "48\n"
     ]
    }
   ],
   "source": [
    "# Syntax for printing a string of text\n",
    "print(\"I love Python!\")\n",
    "\n",
    "\n",
    "# Syntax for printing numeric values\n",
    "print(360)\n",
    "print(32*45)\n",
    "\n",
    "\n",
    "# Syntax for printing the value of a variable\n",
    "value = 8*6\n",
    "print(value)"
   ]
  },
  {
   "cell_type": "code",
   "execution_count": 4,
   "metadata": {},
   "outputs": [
    {
     "name": "stdout",
     "output_type": "stream",
     "text": [
      "16.0\n",
      "4096\n",
      "16\n",
      "64\n",
      "2.0\n",
      "456976\n"
     ]
    }
   ],
   "source": [
    "# Multiplication, division, addition, and subtraction\n",
    "print(3*8/2+5-1)\n",
    " \n",
    "# Exponents\n",
    "print(4**6) # Syntax means 4 to the power of 6\n",
    "print(4**2) # To square a number\n",
    "print(4**3) # To cube a number\n",
    "print(4**0.5) # To find the square root of a number\n",
    "\n",
    "# To calculate how many different possible combinations can be\n",
    "# formed using a set of \"x\" characters with each character in \"x\"\n",
    "# having \"y\" number of possible values, you will need to use an \n",
    "# exponent for the calculation:\n",
    "x = 4\n",
    "y = 26\n",
    "print(y**x)\n"
   ]
  },
  {
   "cell_type": "code",
   "execution_count": 5,
   "metadata": {},
   "outputs": [
    {
     "name": "stdout",
     "output_type": "stream",
     "text": [
      "520\n"
     ]
    }
   ],
   "source": [
    "# Assignment of values to the variables:\n",
    "years = 10\n",
    "weeks_in_a_year = 52\n",
    "# This variable is assigned an arithmetic calculation:\n",
    "weeks_in_a_decade = years * weeks_in_a_year\n",
    "# Prints the calculation stored in the \"weeks_in_a_decade\" variable:\n",
    "print(weeks_in_a_decade)"
   ]
  },
  {
   "cell_type": "code",
   "execution_count": 6,
   "metadata": {},
   "outputs": [
    {
     "name": "stdout",
     "output_type": "stream",
     "text": [
      "20.0\n"
     ]
    }
   ],
   "source": [
    "# Question on Week Practice (Last Test on Module 1)\n",
    "print(6*2-5/(1+4)+3**2)"
   ]
  }
 ],
 "metadata": {
  "kernelspec": {
   "display_name": "Python 3.7.0 64-bit",
   "language": "python",
   "name": "python3"
  },
  "language_info": {
   "codemirror_mode": {
    "name": "ipython",
    "version": 3
   },
   "file_extension": ".py",
   "mimetype": "text/x-python",
   "name": "python",
   "nbconvert_exporter": "python",
   "pygments_lexer": "ipython3",
   "version": "3.7.0"
  },
  "orig_nbformat": 4,
  "vscode": {
   "interpreter": {
    "hash": "d4f3b6a2a481da716a753d25a28eb6c120ed8e5e5a1bdf483d7f5016fd6841a7"
   }
  }
 },
 "nbformat": 4,
 "nbformat_minor": 2
}
