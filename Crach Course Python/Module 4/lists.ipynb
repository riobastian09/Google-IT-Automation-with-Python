{
 "cells": [
  {
   "cell_type": "code",
   "execution_count": 1,
   "metadata": {},
   "outputs": [
    {
     "name": "stdout",
     "output_type": "stream",
     "text": [
      "lesson\n",
      "\n",
      "Now\n",
      "\n"
     ]
    }
   ],
   "source": [
    "# Using the \"split\" string method from the preceding lesson, complete the get_word \n",
    "# function to return the {n}th word from a passed sentence. For example, \n",
    "# get_word(\"This is a lesson about lists\", 4) should return \"lesson\", which is the \n",
    "# 4th word in this sentence. Hint: remember that list indexes start at 0, not 1. \n",
    "\n",
    "def get_word(sentence, n):\n",
    "\t# Only proceed if n is positive \n",
    "\tif n > 0:\n",
    "\t\twords = sentence.split()\n",
    "\t\t# Only proceed if n is not more than the number of words \n",
    "\t\tif n <= len(words):\n",
    "\t\t\treturn(words[n-1])\n",
    "\treturn(\"\")\n",
    "\n",
    "print(get_word(\"This is a lesson about lists\", 4)) # Should print: lesson\n",
    "print(get_word(\"This is a lesson about lists\", -4)) # Nothing\n",
    "print(get_word(\"Now we are cooking!\", 1)) # Should print: Now\n",
    "print(get_word(\"Now we are cooking!\", 5)) # Nothing"
   ]
  },
  {
   "cell_type": "markdown",
   "metadata": {},
   "source": [
    "# Lists"
   ]
  },
  {
   "cell_type": "code",
   "execution_count": 10,
   "metadata": {},
   "outputs": [
    {
     "name": "stdout",
     "output_type": "stream",
     "text": [
      "['Pineapple', 'Banana', 'Apple', 'Melon', 'Manggo']\n",
      "['Orange', 'Pineapple', 'Banana', 'Apple', 'Melon', 'Manggo']\n",
      "['Orange', 'Pineapple', 'Banana', 'Apple', 'Melon', 'Manggo', 'Kiwi']\n",
      "['Orange', 'Pineapple', 'Banana', 'Melon', 'Manggo', 'Kiwi']\n",
      "['Orange', 'Pineapple', 'Banana', 'Manggo', 'Kiwi']\n",
      "['Orange', 'Pineapple', 'Strawbeeey', 'Manggo', 'Kiwi']\n"
     ]
    }
   ],
   "source": [
    "fruits = [\"Pineapple\", \"Banana\", \"Apple\", \"Melon\"]\n",
    "fruits.append(\"Manggo\")\n",
    "print(fruits)\n",
    "\n",
    "fruits.insert(0, \"Orange\")\n",
    "print(fruits)\n",
    "\n",
    "fruits.insert(25, \"Kiwi\")\n",
    "print(fruits)\n",
    "\n",
    "fruits.remove(\"Apple\")\n",
    "print(fruits)\n",
    "\n",
    "fruits.pop(3)\n",
    "print(fruits)\n",
    "\n",
    "fruits[2] = \"Strawberry\"\n",
    "print(fruits)"
   ]
  },
  {
   "cell_type": "markdown",
   "metadata": {},
   "source": [
    "# Tuple"
   ]
  },
  {
   "cell_type": "code",
   "execution_count": 1,
   "metadata": {},
   "outputs": [
    {
     "name": "stdout",
     "output_type": "stream",
     "text": [
      "17.46\n",
      "0.48\n",
      "1.21\n"
     ]
    }
   ],
   "source": [
    "# Let's use tuples to store information about a file: its name, its type and its \n",
    "# size in bytes. Fill in the gaps in this code to return the size in kilobytes (a \n",
    "# kilobyte is 1024 bytes) up to 2 decimal places. \n",
    "\n",
    "def file_size(file_info):\n",
    "\tname, tipe, size = file_info\n",
    "\treturn(\"{:.2f}\".format(size / 1024))\n",
    "\n",
    "print(file_size(('Class Assignment', 'docx', 17875))) # Should print 17.46\n",
    "print(file_size(('Notes', 'txt', 496))) # Should print 0.48\n",
    "print(file_size(('Program', 'py', 1239))) # Should print 1.21"
   ]
  },
  {
   "cell_type": "markdown",
   "metadata": {},
   "source": [
    "# Iterating over list and tuples"
   ]
  },
  {
   "cell_type": "code",
   "execution_count": 13,
   "metadata": {},
   "outputs": [
    {
     "name": "stdout",
     "output_type": "stream",
     "text": [
      "Total Character: 25, Average lenth 6.25\n"
     ]
    }
   ],
   "source": [
    "fruits = [\"Pineapple\", \"Banana\", \"Apple\", \"Melon\"]\n",
    "chars = 0\n",
    "for fruit in fruits:\n",
    "    chars += len(fruit)\n",
    "\n",
    "print(\"Total Character: {}, Average lenth {}\".format(chars, chars/len(fruits)))"
   ]
  },
  {
   "cell_type": "code",
   "execution_count": 14,
   "metadata": {},
   "outputs": [
    {
     "name": "stdout",
     "output_type": "stream",
     "text": [
      "1 - Pineapple\n",
      "2 - Banana\n",
      "3 - Apple\n",
      "4 - Melon\n"
     ]
    }
   ],
   "source": [
    "fruits = [\"Pineapple\", \"Banana\", \"Apple\", \"Melon\"]\n",
    "for index, preson in enumerate(fruits):\n",
    "    print(\"{} - {}\".format(index+1, preson))\n",
    "\n",
    "# The enumerate function returns a tuple for each \n",
    "# element in the list. The first value in the tuple \n",
    "# is the index of the element in the sequence. \n",
    "# The second value in the tuple is the element in the sequence."
   ]
  },
  {
   "cell_type": "code",
   "execution_count": 16,
   "metadata": {},
   "outputs": [
    {
     "name": "stdout",
     "output_type": "stream",
     "text": [
      "['Rio Bastian <riobastian@gmail.com>', 'James <james@gmail.com>']\n"
     ]
    }
   ],
   "source": [
    "def full_emails(people):\n",
    "    result = []\n",
    "    for email, name in people:\n",
    "        result.append(\"{} <{}>\".format(name,email))\n",
    "    return result\n",
    "\n",
    "print(full_emails({(\"riobastian@gmail.com\",\"Rio Bastian\"),(\"james@gmail.com\",\"James\")}))"
   ]
  },
  {
   "cell_type": "code",
   "execution_count": 17,
   "metadata": {},
   "outputs": [
    {
     "name": "stdout",
     "output_type": "stream",
     "text": [
      "['a', 'c', 'e', 'g']\n",
      "['Orange', 'Strawberry', 'Peach']\n"
     ]
    }
   ],
   "source": [
    "# Try out the enumerate function for yourself in this quick exercise. \n",
    "# Complete the skip_elements function to return every other element \n",
    "# from the list, this time using the enumerate function to check if \n",
    "# an element is in an even position or an odd position.\n",
    "\n",
    "def skip_elements(elements):\n",
    "\t# code goes here\n",
    "\tresult = []\n",
    "\tfor i, element in enumerate(elements):\n",
    "\t\tif i%2 == 0:\n",
    "\t\t\tresult.append(element)\n",
    "\treturn result\n",
    "\n",
    "print(skip_elements([\"a\", \"b\", \"c\", \"d\", \"e\", \"f\", \"g\"])) # Should be ['a', 'c', 'e', 'g']\n",
    "print(skip_elements(['Orange', 'Pineapple', 'Strawberry', 'Kiwi', 'Peach'])) # Should be ['Orange', 'Strawberry', 'Peach']"
   ]
  },
  {
   "cell_type": "markdown",
   "metadata": {},
   "source": [
    "# List comprehensions"
   ]
  },
  {
   "cell_type": "code",
   "execution_count": 21,
   "metadata": {},
   "outputs": [
    {
     "name": "stdout",
     "output_type": "stream",
     "text": [
      "[7, 14, 21, 28, 35, 42, 49, 56, 63, 70]\n",
      "[7, 14, 21, 28, 35, 42, 49, 56, 63, 70]\n"
     ]
    }
   ],
   "source": [
    "# Normal List\n",
    "multiples = []\n",
    "for x in range (1,11):\n",
    "    multiples.append(x*7)\n",
    "\n",
    "print(multiples)\n",
    "\n",
    "# List Comprehensions\n",
    "multiples = [ x*7 for x in range(1,11)]\n",
    "print(multiples)"
   ]
  },
  {
   "cell_type": "code",
   "execution_count": 40,
   "metadata": {},
   "outputs": [
    {
     "name": "stdout",
     "output_type": "stream",
     "text": [
      "[6, 9, 10, 4, 5]\n",
      "[0, 3, 6, 9, 12, 15, 18, 21, 24, 27, 30, 33, 36, 39, 42, 45, 48, 51, 54, 57, 60, 63, 66, 69, 72, 75, 78, 81, 84, 87, 90, 93, 96, 99]\n"
     ]
    }
   ],
   "source": [
    "fruits = ['Orange', 'Pineapple', 'Strawberry', 'Kiwi', 'Peach']\n",
    "lengths = [len(fruit) for fruit in fruits]\n",
    "print(lengths)\n",
    "\n",
    "lengths = [x for x in range(0,101) if x%3 == 0]\n",
    "print(lengths)"
   ]
  },
  {
   "cell_type": "code",
   "execution_count": 25,
   "metadata": {},
   "outputs": [
    {
     "name": "stdout",
     "output_type": "stream",
     "text": [
      "[1, 3, 5]\n",
      "[1, 3, 5, 7, 9]\n",
      "[1, 3, 5, 7, 9, 11]\n",
      "[1]\n",
      "[]\n"
     ]
    }
   ],
   "source": [
    "# The odd_numbers function returns a list of odd numbers between 1 \n",
    "# and n, inclusively. Fill in the blanks in the function, using list \n",
    "# comprehension. Hint: remember that list and range counters start \n",
    "# at 0 and end at the limit minus 1.\n",
    "\n",
    "def odd_numbers(n):\n",
    "\treturn [x for x in range(1,n+1) if x%2!=0] # or if x%2==1\n",
    "\n",
    "print(odd_numbers(5))  # Should print [1, 3, 5]\n",
    "print(odd_numbers(10)) # Should print [1, 3, 5, 7, 9]\n",
    "print(odd_numbers(11)) # Should print [1, 3, 5, 7, 9, 11]\n",
    "print(odd_numbers(1))  # Should print [1]\n",
    "print(odd_numbers(-1)) # Should print []"
   ]
  },
  {
   "cell_type": "code",
   "execution_count": 28,
   "metadata": {},
   "outputs": [
    {
     "name": "stdout",
     "output_type": "stream",
     "text": [
      "List comprehension result:\n",
      "[2, 4, 6, 8, 10, 12, 14, 16, 18, 20]\n",
      "Long form code result:\n",
      "[2, 4, 6, 8, 10, 12, 14, 16, 18, 20]\n"
     ]
    }
   ],
   "source": [
    "### Simple List Comprehension\n",
    "print(\"List comprehension result:\")\n",
    "\n",
    "# The following list comprehension compacts several lines \n",
    "# of code into one line:\n",
    "print([x*2 for x in range(1,11)]) \n",
    "\n",
    "\n",
    "\n",
    "### Long form for loop\n",
    "print(\"Long form code result:\")\n",
    "\n",
    "# The list comprehension above accomplishes the same result as\n",
    "# the long form version of the code:\n",
    "my_list = []\n",
    "for x in range(1,11):\n",
    "   my_list.append(x*2)\n",
    "print(my_list)\n",
    "\n",
    "\n",
    "# Click Run to compare the two results."
   ]
  },
  {
   "cell_type": "code",
   "execution_count": 29,
   "metadata": {},
   "outputs": [
    {
     "name": "stdout",
     "output_type": "stream",
     "text": [
      "List comprehension result:\n",
      "[10, 20, 30, 40, 50, 60, 70, 80, 90, 100]\n",
      "Long form code result:\n",
      "[10, 20, 30, 40, 50, 60, 70, 80, 90, 100]\n"
     ]
    }
   ],
   "source": [
    "### List Comprehension with Conditional Statement\n",
    "print(\"List comprehension result:\")\n",
    "\n",
    "# The following list comprehension compacts multiple lines \n",
    "# of code into one line:\n",
    "print([ x for x in range(1,101) if x % 10 == 0 ])\n",
    "\n",
    "### Long form for loop with nested if-statement\n",
    "print(\"Long form code result:\")\n",
    "\n",
    "# The list comprehension above accomplishes the same result as\n",
    "# the long form version of the code:\n",
    "my_list = []\n",
    "for x in range(1,101):\n",
    "  if x % 10 == 0:\n",
    "    my_list.append(x)\n",
    "print(my_list)\n",
    "\n",
    "\n",
    "# Click Run to observe the two results."
   ]
  },
  {
   "cell_type": "code",
   "execution_count": 34,
   "metadata": {},
   "outputs": [
    {
     "name": "stdout",
     "output_type": "stream",
     "text": [
      "[4, 9]\n",
      "[1, 4, 9, 16, 25]\n",
      "[0, 1, 4, 9, 16, 25, 36, 49, 64, 81, 100]\n"
     ]
    }
   ],
   "source": [
    "# Practice exercise\n",
    "# This exercise will walk you through how to write a list comprehension to create a list of \n",
    "# squared numbers (n*n). It needs to return a list of squares of consecutive numbers between \n",
    "# “start” and “end” inclusively. For example, squares(2, 3) should return a list containing [4, 9].\n",
    "\n",
    "# The function receives the variables “start” and “end” through the function parameters. \n",
    "# In the return line, start by entering the list brackets [ ]\n",
    "# Between the brackets [ ], enter the arithmetic expression to square a variable “n”. \n",
    "# To the right of the square expression, write a for loop that iterates over “n” in a range from the “start” to “end” variables.\n",
    "# Ensure the “end” range value is included in the range() by adding 1 to it.\n",
    "\n",
    "def squares(start, end):\n",
    "    return [n*n for n in range(start,end+1)] \n",
    "\n",
    "\n",
    "print(squares(2, 3))  # Should print [4, 9]\n",
    "print(squares(1, 5))  # Should print [1, 4, 9, 16, 25]\n",
    "print(squares(0, 10)) # Should print [0, 1, 4, 9, 16, 25, 36, 49, 64, 81, 100]"
   ]
  },
  {
   "cell_type": "code",
   "execution_count": 35,
   "metadata": {},
   "outputs": [
    {
     "name": "stdout",
     "output_type": "stream",
     "text": [
      "['January 2024', 'May 2025', 'April 2024', 'August 2024', 'September 2025', 'December 2024']\n"
     ]
    }
   ],
   "source": [
    "# This block of code changes the year on a list of dates.\n",
    "# The \"years\" list is given with existing elements. \n",
    "years = [\"January 2023\", \"May 2025\", \"April 2023\", \"August 2024\", \"September 2025\", \"December 2023\"]\n",
    "\n",
    "\n",
    "# The variable \"updated_years\" is initialized as a list data type \n",
    "# using empty square brackets []. This list will hold the new list\n",
    "# with the updated years. \n",
    "updated_years = []\n",
    "\n",
    "# The for loop checks each \"year\" element in the list \"years\".\n",
    "for year in years:\n",
    "\n",
    "    # The if-statement checks if the \"year\" element ends with the \n",
    "    # substring \"2023\". \n",
    "    if year.endswith(\"2023\"):\n",
    "\n",
    "        # If True, then a temporary variable \"new\" will hold the \n",
    "        # modified \"year\" element where the \"2023\" substring is \n",
    "        # replaced with the substring \"2024\".\n",
    "        new = year.replace(\"2023\",\"2024\")\n",
    "\n",
    "        # Then, the list \"updated_years\" is appended with the changed\n",
    "        # element held in the temporary variable \"new\".\n",
    "        updated_years.append(new)\n",
    "        \n",
    "    # If False, the original \"year\" element will be appended to the \n",
    "    # the \"updated_years\" list unchanged.\n",
    "    else:\n",
    "        updated_years.append(year)\n",
    "\n",
    "\n",
    "print(updated_years) \n",
    "# Should print [\"January 2024\", \"May 2025\", \"April 2024\", \"August 2024\", \"September 2025\", \"December 2024\"]"
   ]
  },
  {
   "cell_type": "code",
   "execution_count": 36,
   "metadata": {},
   "outputs": [
    {
     "name": "stdout",
     "output_type": "stream",
     "text": [
      "[4, 9]\n",
      "[1, 4, 9, 16, 25]\n",
      "[0, 1, 4, 9, 16, 25, 36, 49, 64, 81, 100]\n"
     ]
    }
   ],
   "source": [
    "# This list comprehension creates a list of squared numbers (n*n). It\n",
    "# accepts two integer variables through the function’s parameters.\n",
    "def squares(start, end):\n",
    "    \n",
    "# The list comprehension calculates the square of a variable integer \n",
    "# \"n\", where \"n\" ranges from the \"start\" to \"end\" variables inclusively.\n",
    "# To be inclusive in a range(), add +1 to the end of range variable.\n",
    "    return [n*n for n in range(start,end+1)] \n",
    "\n",
    "\n",
    "print(squares(2, 3))  # Should print [4, 9]\n",
    "print(squares(1, 5))  # Should print [1, 4, 9, 16, 25]\n",
    "print(squares(0, 10)) # Should print [0, 1, 4, 9, 16, 25, 36, 49, 64, 81, 100]"
   ]
  },
  {
   "cell_type": "code",
   "execution_count": 37,
   "metadata": {},
   "outputs": [
    {
     "name": "stdout",
     "output_type": "stream",
     "text": [
      "['January 2024', 'May 2025', 'April 2024', 'August 2024', 'September 2025', 'December 2024']\n"
     ]
    }
   ],
   "source": [
    "# This block of code also changes the year on a list of dates using a\n",
    "# different approach than demonstrated in Skill Group 1. By using a \n",
    "# list comprehension, you can see how it is possible to refactor the\n",
    "# code to a shorter, more efficient code block. \n",
    "\n",
    "# The \"years\" list is given with existing elements.\n",
    "years = [\"January 2023\", \"May 2025\", \"April 2023\", \"August 2024\", \"September 2025\", \"December 2023\"]\n",
    "\n",
    "# The list comprehension below creates a new list \"updated_years\" to\n",
    "# hold the command to replace the \"2023\" substring of the \"year\"\n",
    "# element with the substring \"2024\". This action will be executed if\n",
    "# the last 4 indices of the \"year\" string is equal to the substring\n",
    "# \"2023\". If false (else), the \"year\" element will be included in the\n",
    "# new list \"updated_years\" unchanged.\n",
    "updated_years = [year.replace(\"2023\",\"2024\") if year[-4:] == \"2023\" else year for year in years]\n",
    "\n",
    "\n",
    "print(updated_years) \n",
    "# Should print [\"January 2024\", \"May 2025\", \"April 2024\", \"August 2024\", \"September 2025\", \"December 2024\"]"
   ]
  },
  {
   "cell_type": "code",
   "execution_count": 38,
   "metadata": {},
   "outputs": [
    {
     "name": "stdout",
     "output_type": "stream",
     "text": [
      "one-1 two-2 three-3 four-4 five-5 \n"
     ]
    }
   ],
   "source": [
    "# This function splits a given string into a list of elements. Then, it\n",
    "# modifies each element by moving the first character to the end of the \n",
    "# element and adds a dash between the element and the moved character. \n",
    "# For example, the element \"2two\" will be changed to \"two-2\". Finally,\n",
    "# the function converts the list back to a string, and returns the\n",
    "# new string.\n",
    "def change_string(given_string):\n",
    "\n",
    "# Initialize \"new_string\" as a string data type by using empty quotes.\n",
    "    new_string = \"\"\n",
    "    # Split the \"given_string\" into a \"new_list\", with each \"element\"\n",
    "    # holding an individual word from the string.\n",
    "    new_list = given_string.split()\n",
    "\n",
    "    # The for loop iterates over each \"element\" in the \"new_list\".\n",
    "    for element in new_list:\n",
    "\n",
    "        # Convert the list into a \"new_string\" by using the assignment\n",
    "        # operator += to concatenate the following items: \n",
    "        # + Each list \"element\" (starting at index position [1:]), \n",
    "        # + a dash \"-\", \n",
    "        # + append the first character of the \"element\" (using the index \n",
    "        # [0]) to the end of the \"element\", and finally,\n",
    "        # + a space \" \" to separate each \"element\" in the \"new_string\".\n",
    "        new_string += element[1:] + \"-\"  + element[0] + \" \"\n",
    "\n",
    "    # Return the list that has been converted back into a string.\n",
    "    return new_string\n",
    "\n",
    "\n",
    "print(change_string(\"1one 2two 3three 4four 5five\")) \n",
    "# Should print \"one-1 two-2 three-3 four-4 five-5\"  "
   ]
  },
  {
   "cell_type": "code",
   "execution_count": 39,
   "metadata": {},
   "outputs": [
    {
     "name": "stdout",
     "output_type": "stream",
     "text": [
      "The Printers list includes: Color Printer, Black and White Printer, 3-D Printer\n"
     ]
    }
   ],
   "source": [
    "# This function accepts a list name and a list of elements, and returns\n",
    "# a string with the format: \"The \"list_name\" list includes: element1, \n",
    "# element2, element3\". \n",
    "def list_elements(list_name, elements):\n",
    "\n",
    "    # This task can be completed in a single line of code. The \n",
    "    # concatenation of strings, \"list_name\", and the list \"elements\" can\n",
    "    # occur on the return line. In this case, the string \"The \" is added \n",
    "    # to the \"list_name\", plus the string \" list includes: \", then the\n",
    "    # \"elements\" are joined using a comma to separate each element of the \n",
    "    # list.\n",
    "    return \"The \" + list_name + \" list includes: \" + \", \".join(elements)\n",
    "\n",
    "\n",
    "print(list_elements(\"Printers\", [\"Color Printer\", \"Black and White Printer\", \"3-D Printer\"])) \n",
    "# Should print \"The Printers list includes: Color Printer, Black and White Printer, 3-D Printer\""
   ]
  },
  {
   "cell_type": "markdown",
   "metadata": {},
   "source": [
    "# Practice Quis"
   ]
  },
  {
   "cell_type": "code",
   "execution_count": null,
   "metadata": {},
   "outputs": [],
   "source": [
    "# Given a list of filenames, we want to rename all the files with extension hpp to \n",
    "# the extension h. To do this, we would like to generate a new list called newfilenames, \n",
    "# consisting of the new filenames. Fill in the blanks in the code using any of the methods \n",
    "# you’ve learned thus far, like a for loop or a list comprehension.\n",
    "\n",
    "filenames = [\"program.c\", \"stdio.hpp\", \"sample.hpp\", \"a.out\", \"math.hpp\", \"hpp.out\"]\n",
    "# Generate newfilenames as a list containing the new filenames\n",
    "# using as many lines of code as your chosen method requires.\n",
    "newfilenames = []\n",
    "for filename in filenames:\n",
    "    if '.hpp' in filename:\n",
    "        filename = filename[:-2]\n",
    "    newfilenames.append(filename)\n",
    "\n",
    "\n",
    "print(newfilenames) \n",
    "# Should be [\"program.c\", \"stdio.h\", \"sample.h\", \"a.out\", \"math.h\", \"hpp.out\"]"
   ]
  },
  {
   "cell_type": "code",
   "execution_count": 41,
   "metadata": {},
   "outputs": [
    {
     "name": "stdout",
     "output_type": "stream",
     "text": [
      "ellohay owhay reaay ouyay \n",
      "rogrammingpay niay ythonpay siay unfay \n"
     ]
    }
   ],
   "source": [
    "# Let's create a function that turns text into pig latin: a simple text transformation \n",
    "# that modifies each word moving the first character to the end and appending \"ay\" to \n",
    "# the end. For example, python ends up as ythonpay.\n",
    "\n",
    "def pig_latin(text):\n",
    "  say = \"\"\n",
    "  # Separate the text into words\n",
    "  words = text.split()\n",
    "  for word in words:\n",
    "    # Create the pig latin word and add it to the list\n",
    "    say = say+word[1:]+word[0]+'ay '\n",
    "    # Turn the list back into a phrase\n",
    "  return say\n",
    "\t\t\n",
    "print(pig_latin(\"hello how are you\")) # Should be \"ellohay owhay reaay ouyay\"\n",
    "print(pig_latin(\"programming in python is fun\")) # Should be \"rogrammingpay niay ythonpay siay unfay\""
   ]
  },
  {
   "cell_type": "code",
   "execution_count": 42,
   "metadata": {},
   "outputs": [
    {
     "name": "stdout",
     "output_type": "stream",
     "text": [
      "rwxr-xr-x\n",
      "rw-r--r--\n",
      "rwxr-x---\n",
      "rw-------\n"
     ]
    }
   ],
   "source": [
    "# The permissions of a file in a Linux system are split into three sets of three permissions: read, write, and execute for the owner, group, and others. Each of the three values can be expressed as an octal number summing each permission, with 4 corresponding to read, 2 to write, and 1 to execute. Or it can be written with a string using the letters r, w, and x or - when the permission is not granted.\n",
    "#  For example: \n",
    "#  640 is read/write for the owner, read for the group, and no permissions for the others; converted to a string, it would be: \"rw-r-----\"\n",
    "#  755 is read/write/execute for the owner, and read/execute for group and others; converted to a string, it would be: \"rwxr-xr-x\"\n",
    "#  Fill in the blanks to make the code convert a permission in octal format into a string format.\n",
    " \n",
    "def octal_to_string(octal):\n",
    "    result = \"\"\n",
    "    value_letters = [(4,\"r\"),(2,\"w\"),(1,\"x\")]\n",
    "    # Iterate over each of the digits in octal\n",
    "    for digit in [int(n) for n in str(octal)]:\n",
    "        # Check for each of the permissions values\n",
    "        for value, letter in value_letters:\n",
    "            if digit >= value:\n",
    "                result += letter\n",
    "                digit -= value\n",
    "            else:\n",
    "                result += '-'\n",
    "    return result\n",
    "    \n",
    "print(octal_to_string(755)) # Should be rwxr-xr-x\n",
    "print(octal_to_string(644)) # Should be rw-r--r--\n",
    "print(octal_to_string(750)) # Should be rwxr-x---\n",
    "print(octal_to_string(600)) # Should be rw-------"
   ]
  },
  {
   "cell_type": "code",
   "execution_count": 43,
   "metadata": {},
   "outputs": [
    {
     "name": "stdout",
     "output_type": "stream",
     "text": [
      "Marketing: Mike, Karen, Jake, Tasha\n",
      "Engineering: Kim, Jay, Tom\n",
      "Users: \n"
     ]
    }
   ],
   "source": [
    "# The group_list function accepts a group name and a list of members, and \n",
    "# returns a string with the format: group_name: member1, member2, … For \n",
    "# example, group_list(\"g\", [\"a\",\"b\",\"c\"]) returns \"g: a, b, c\". Fill in \n",
    "# the gaps in this function to do that.\n",
    "\n",
    "def group_list(group, users):\n",
    "  member = (\", \").join(users)\n",
    "  return \"{}: {}\".format(group, member)\n",
    "\n",
    "print(group_list(\"Marketing\", [\"Mike\", \"Karen\", \"Jake\", \"Tasha\"])) # Should be \"Marketing: Mike, Karen, Jake, Tasha\"\n",
    "print(group_list(\"Engineering\", [\"Kim\", \"Jay\", \"Tom\"])) # Should be \"Engineering: Kim, Jay, Tom\"\n",
    "print(group_list(\"Users\", \"\")) # Should be \"Users:\""
   ]
  },
  {
   "cell_type": "code",
   "execution_count": 44,
   "metadata": {},
   "outputs": [
    {
     "name": "stdout",
     "output_type": "stream",
     "text": [
      "Ken is 30 years old and works as Chef\n",
      "Pat is 35 years old and works as Lawyer\n",
      "Amanda is 25 years old and works as Engineer\n"
     ]
    },
    {
     "data": {
      "text/plain": [
       "'\\nOutput should match:\\nKen is 30 years old and works as Chef\\nPat is 35 years old and works as Lawyer\\nAmanda is 25 years old and works as Engineer\\n'"
      ]
     },
     "execution_count": 44,
     "metadata": {},
     "output_type": "execute_result"
    }
   ],
   "source": [
    "# The guest_list function reads in a list of tuples with the name, age, and \n",
    "# profession of each party guest, and prints the sentence \"Guest is X years \n",
    "# old and works as __.\" for each one. For example, guest_list(('Ken', 30, \"Chef\"), \n",
    "# (\"Pat\", 35, 'Lawyer'), ('Amanda', 25, \"Engineer\")) should print out: Ken is 30 \n",
    "# years old and works as Chef. Pat is 35 years old and works as Lawyer. Amanda is \n",
    "# 25 years old and works as Engineer. Fill in the gaps in this function to do that.\n",
    "\n",
    "def guest_list(guests):\n",
    "\tfor guest in guests:\n",
    "\t\tname, age, job = guest\n",
    "\t\tprint(\"{} is {} years old and works as {}\".format(name, age, job))\n",
    "\n",
    "guest_list([('Ken', 30, \"Chef\"), (\"Pat\", 35, 'Lawyer'), ('Amanda', 25, \"Engineer\")])\n",
    "\n",
    "#Click Run to submit code\n",
    "\"\"\"\n",
    "Output should match:\n",
    "Ken is 30 years old and works as Chef\n",
    "Pat is 35 years old and works as Lawyer\n",
    "Amanda is 25 years old and works as Engineer\n",
    "\"\"\""
   ]
  }
 ],
 "metadata": {
  "kernelspec": {
   "display_name": "Python 3.7.0 64-bit",
   "language": "python",
   "name": "python3"
  },
  "language_info": {
   "codemirror_mode": {
    "name": "ipython",
    "version": 3
   },
   "file_extension": ".py",
   "mimetype": "text/x-python",
   "name": "python",
   "nbconvert_exporter": "python",
   "pygments_lexer": "ipython3",
   "version": "3.7.0"
  },
  "orig_nbformat": 4,
  "vscode": {
   "interpreter": {
    "hash": "d4f3b6a2a481da716a753d25a28eb6c120ed8e5e5a1bdf483d7f5016fd6841a7"
   }
  }
 },
 "nbformat": 4,
 "nbformat_minor": 2
}
