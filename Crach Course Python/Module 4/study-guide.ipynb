{
 "cells": [
  {
   "cell_type": "code",
   "execution_count": 1,
   "metadata": {},
   "outputs": [
    {
     "name": "stdout",
     "output_type": "stream",
     "text": [
      "Winter fleece jackets are on sale for $49.99\n"
     ]
    }
   ],
   "source": [
    "def sales_prices(item_and_price):\n",
    "    # Initialize variables \"item\" and \"price\" as strings\n",
    "    item = \"\"\n",
    "    price = \"\"\n",
    "    # Create a variable \"item_or_price\" to hold the result of the split. \n",
    "    item_or_price = item_and_price.split()\n",
    "\n",
    "    # For each element \"x\" in the split variable \"item_or_price\" \n",
    "    for x in item_or_price:\n",
    "\n",
    "        # Check if the element is a number\n",
    "        if x.isalpha():\n",
    "\n",
    "            # If true, assign the element to the \"item\" string variable and add a space \n",
    "            # for any item names containing multiple words, like \"Winter fleece jacket\".\n",
    "            item += x + \" \"\n",
    "\n",
    "        # Else, if x is a number (if x.isalpha() is false): \n",
    "        else:\n",
    "            # Assign the element to the \"price\" string variable. \n",
    "            price = x\n",
    "\n",
    "    # Strip the extra space to the right of the last \"item\" word\n",
    "    item = item.strip()\n",
    "\n",
    "    # Return the item name and price formatted in a sentence \n",
    "    return \"{} are on sale for ${}\".format(item,price)\n",
    "\n",
    "\n",
    "# Call to the function \n",
    "print(sales_prices(\"Winter fleece jackets 49.99\"))\n",
    "# Should print \"Winter fleece jackets are on sale for $49.99\""
   ]
  },
  {
   "cell_type": "code",
   "execution_count": 2,
   "metadata": {},
   "outputs": [
    {
     "data": {
      "text/plain": [
       "9"
      ]
     },
     "execution_count": 2,
     "metadata": {},
     "output_type": "execute_result"
    }
   ],
   "source": [
    "# This function accepts a string variable \"data_field\".  \n",
    "def count_words(data_field):\n",
    "\n",
    "    # Splits the string into individual words. \n",
    "    split_data = data_field.split()\n",
    "  \n",
    "    # Then returns the number of words in the string using the len()\n",
    "    # function. \n",
    "    return len(split_data)\n",
    "    \n",
    "    # Note that it is possible to combine the len() function and the \n",
    "    # .split() method into the same line of code by inserting the \n",
    "    # data_field.split() command into the the len() function parameters.\n",
    "\n",
    "# Call to the function\n",
    "count_words(\"Catalog item 3523: Organic raw pumpkin seeds in shell\")\n",
    "# Should print 9"
   ]
  },
  {
   "cell_type": "code",
   "execution_count": 3,
   "metadata": {},
   "outputs": [
    {
     "name": "stdout",
     "output_type": "stream",
     "text": [
      "[1989, 1992, 1997, 2001, 2006, 2011, 2018, 2022]\n"
     ]
    }
   ],
   "source": [
    "# This function accepts two variables, each containing a list of years.\n",
    "# A current \"recent_first\" list contains [2022, 2018, 2011, 2006].\n",
    "# An older \"recent_last\" list contains [1989, 1992, 1997, 2001].\n",
    "# The lists need to be combined with the years in chronological order.\n",
    "def record_profit_years(recent_first, recent_last):\n",
    "\n",
    "    # Reverse the order of the \"recent_first\" list so that it is in \n",
    "    # chronological order.\n",
    "    recent_first.reverse()\n",
    "\n",
    "    # Extend the \"recent_last\" list by appending the newly reversed \n",
    "    # \"recent_first\" list.\n",
    "    recent_last.extend(recent_first)\n",
    "\n",
    "    # Return the \"recent_last\", which now contains the two lists \n",
    "    # combined in chronological order. \n",
    "    return recent_last\n",
    "\n",
    "# Assign the two lists to the two variables to be passed to the \n",
    "# record_profit_years() function.\n",
    "recent_first = [2022, 2018, 2011, 2006]\n",
    "recent_last = [1989, 1992, 1997, 2001]\n",
    "\n",
    "\n",
    "\n",
    "# Call the record_profit_years() function and pass the two lists as \n",
    "# parameters. \n",
    "print(record_profit_years(recent_first, recent_last))\n",
    "# Should print [1989, 1992, 1997, 2001, 2006, 2011, 2018, 2022]"
   ]
  },
  {
   "cell_type": "code",
   "execution_count": 4,
   "metadata": {},
   "outputs": [
    {
     "name": "stdout",
     "output_type": "stream",
     "text": [
      "[1972, 1973, 1974, 1975]\n"
     ]
    }
   ],
   "source": [
    "# The function accepts two parameters: a start year and an end year.\n",
    "def list_years(start, end):\n",
    "\n",
    "    # It returns a list comprehension that creates a list of years in a for\n",
    "    # loop using a range from the start year to the end year (inclusive of \n",
    "    # the upper range year, using end+1).\n",
    "    return [year for year in range(start, end+1)]\n",
    "\n",
    "\n",
    "# Call the years() function with two parameters.\n",
    "print(list_years(1972, 1975)) \n",
    "# Should print [1972, 1973, 1974, 1975]"
   ]
  },
  {
   "cell_type": "code",
   "execution_count": 5,
   "metadata": {},
   "outputs": [
    {
     "name": "stdout",
     "output_type": "stream",
     "text": [
      "[5, 7, 9, 11, 13]\n"
     ]
    }
   ],
   "source": [
    "# The function accepts two variable integers through the parameters and\n",
    "# returns all odd numbers between x and y-1.\n",
    "def odd_numbers(x, y):\n",
    "\n",
    "\n",
    "# This list comprehension uses a for loop to iterate through values \n",
    "# of n in a range from x to y, with the value of y excluded (meaning\n",
    "# keep the default range() function behavior to exclude the\n",
    "# end-of-range value from the range). Since an incremental value is not \n",
    "# specified, the range function uses the default increment of +1.\n",
    "# The if condition checks n to test if the number is odd using the\n",
    "# modulo operator. This condition is written to check if n is divided \n",
    "# by 2, that the remainder is not 0. \n",
    "    return [n for n in range(x, y) if n % 2 != 0]\n",
    "\n",
    "\n",
    "# Call the years() function with two parameters.\n",
    "print(odd_numbers(5, 15)) \n",
    "# Should print [5, 7, 9, 11, 13]"
   ]
  },
  {
   "cell_type": "code",
   "execution_count": 6,
   "metadata": {},
   "outputs": [
    {
     "name": "stdout",
     "output_type": "stream",
     "text": [
      "The IP address of the Domain Name Server server is 8.8.8.8\n",
      "The IP address of the Gateway Server server is 192.168.1.1\n",
      "The IP address of the Print Server server is 192.168.1.33\n",
      "The IP address of the Mail Server server is 192.168.1.190\n",
      "\n"
     ]
    }
   ],
   "source": [
    "# The network() function accepts a dictionary \"servers\" as a parameter.\n",
    "def network(servers):\n",
    "\n",
    "    # A string variable is initialized to hold the \"result\". \n",
    "    result = \"\"\n",
    "\n",
    "    # For each \"hostname\" (key) and \"IP address\" (value) in the \"server\" dictionary items...\n",
    "    for hostname, IP_address in servers.items():\n",
    "\n",
    "        # A string identifying the hostname and IP address for each server is added\n",
    "        # to the \"result\" variable. The string .format() function and is used to plug\n",
    "        # the hostname and IP_address variables into the designated {} placeholders\n",
    "        # within the string.\n",
    "        result += \"The IP address of the {} server is {}\".format(hostname, IP_address) + \"\\n\"\n",
    "    \n",
    "    # Return the \"result\" variable string.\n",
    "    return result \n",
    "\n",
    "# Call the \"network\" function with the dictionary. \n",
    "print(network({\"Domain Name Server\":\"8.8.8.8\", \"Gateway Server\":\"192.168.1.1\", \"Print Server\":\"192.168.1.33\", \"Mail Server\":\"192.168.1.190\"}))\n",
    "\n",
    "# Should print:\n",
    "# The IP address of the Domain Name Server server is 8.8.8.8\n",
    "# The IP address of the Gateway Server server is 192.168.1.1\n",
    "# The IP address of the Print Server server is 192.168.1.33\n",
    "# The IP address of the Mail Server server is 192.168.1.190\n"
   ]
  },
  {
   "cell_type": "code",
   "execution_count": 7,
   "metadata": {},
   "outputs": [
    {
     "name": "stdout",
     "output_type": "stream",
     "text": [
      "{'Arshi': 0, 'Catalina': 0, 'Diego': 0}\n"
     ]
    }
   ],
   "source": [
    "# The scores() function accepts a dictionary \"game_scores\" as a parameter.\n",
    "def reset_scores(game_scores):\n",
    "\n",
    "    # The .copy() dictionary method is used to create a new copy of the \"game_scores\".\n",
    "    new_game_scores = game_scores.copy() \n",
    "\n",
    "    # The for loop iterates over new_game_scores items, with the player as the key\n",
    "    # and the score as the value. \n",
    "    for player, score in new_game_scores.items():\n",
    "    \n",
    "        # The dictionary operation to assign a new value to a key is used\n",
    "        # to reset the grade values to 0.\n",
    "        new_game_scores[player] = 0\n",
    "  \n",
    "    return new_game_scores\n",
    " \n",
    "# The dictionary is defined.\n",
    "game1_scores = {\"Arshi\": 3, \"Catalina\": 7, \"Diego\": 6}\n",
    " \n",
    "# Call the \"reset_scores\" function with the \"game1_scores\" dictionary. \n",
    "print(reset_scores(game1_scores))\n",
    "# Should print {'Arshi': 0, 'Catalina': 0, 'Diego': 0}"
   ]
  },
  {
   "cell_type": "code",
   "execution_count": 8,
   "metadata": {},
   "outputs": [
    {
     "name": "stdout",
     "output_type": "stream",
     "text": [
      "House number 123 on a street named Main Street \n",
      "House number 1001 on a street named 1st Ave \n",
      "House number 55 on a street named North Center Drive \n"
     ]
    }
   ],
   "source": [
    "# The format of the input variable “address_string” is: numeric house number, followed by the street name which may contain numbers and could be several words long (e.g., \"123 Main Street\", \"1001 1st Ave\", or \"55 North Center Drive\"). \n",
    "# Complete the string methods needed in this function so that input like \"123 Main Street\" will produce the output \"House number 123 on a street named Main Street\". This function should:\n",
    "# accept a string through the parameters of the function;\n",
    "# separate the address string into new strings: house_number and street_name; \n",
    "# return the variables in the string format: \"House number X on a street named Y\". \n",
    "\n",
    "def format_address(address_string):\n",
    "\n",
    "\n",
    "    house_number = \"\"\n",
    "    street_name = \"\"\n",
    "\n",
    "\n",
    "    # Separate the house number from the street name.\n",
    "    address_parts = address_string.split()\n",
    "    \n",
    "    for address_part in address_parts:\n",
    "       # Complete the if-statement with a string method.  \n",
    "       if address_part.isdigit():\n",
    "         house_number = address_part\n",
    "       else:\n",
    "         street_name += address_part + \" \"\n",
    "    # Remove the extra space at the end of the last \"street_name\".\n",
    "    street_name = \"House number \"+house_number+\" on a street named \"+street_name\n",
    " \n",
    "    # Use a string method to return the required formatted string.\n",
    "    return street_name\n",
    "\n",
    "\n",
    "print(format_address(\"123 Main Street\"))\n",
    "# Should print: \"House number 123 on a street named Main Street\"\n",
    "\n",
    "\n",
    "print(format_address(\"1001 1st Ave\"))\n",
    "# Should print: \"House number 1001 on a street named 1st Ave\"\n",
    "\n",
    "\n",
    "print(format_address(\"55 North Center Drive\"))\n",
    "# Should print \"House number 55 on a street named North Center Drive\"\n"
   ]
  },
  {
   "cell_type": "code",
   "execution_count": null,
   "metadata": {},
   "outputs": [],
   "source": [
    "# Fill in the blank to complete the “string_words” function. This function \n",
    "# should split up the words in the given “string” and return the number of \n",
    "# words in the “string”.  Complete the string operation and method needed \n",
    "# in this function so that a function call like \"string_words(\"Hello, World\")\" \n",
    "# will return the output \"2\".\n",
    "\n",
    "def string_words(string):\n",
    "    # Complete the return statement using both a string operation and \n",
    "    # a string method in a single line.\n",
    "    return len(string.split())\n",
    "\n",
    "\n",
    "print(string_words(\"Hello, World\")) # Should print 2\n",
    "print(string_words(\"Python is awesome\")) # Should print 3\n",
    "print(string_words(\"Keep going\")) # Should print 2\n",
    "print(string_words(\"Have a nice day\")) # Should print 4"
   ]
  },
  {
   "cell_type": "code",
   "execution_count": 9,
   "metadata": {},
   "outputs": [
    {
     "name": "stdout",
     "output_type": "stream",
     "text": [
      "['Minna', 'Carol', 'Gunnar', 'Malena', 'Oakley', 'Jocelyn', 'Benjamin', 'Chika', 'Alma']\n"
     ]
    }
   ],
   "source": [
    "# # Pertanyaan #3\n",
    "# Consider the following scenario about using Python lists: \n",
    "\n",
    "# A professor gave his two assistants, Jaime and Drew, the task of keeping an attendance list of students in the order they arrive in the classroom. Drew was the first one to note which students arrived, and then Jaime took over. After the class, they each entered their lists into the computer and emailed them to the professor. The professor wants to combine the two lists into one, in the order of each student's arrival. Jaime emailed a follow-up, saying that her list is in reverse order. \n",
    "\n",
    "# Complete the code to combine the two lists into one in the order of: the contents of Drew's list, followed by Jaime’s list in reverse order, to produce an accurate list of the students as they arrived. This function should: \n",
    "\n",
    "# accept two lists through the function’s parameters;\n",
    "\n",
    "# reverse the order of “list1”; \n",
    "\n",
    "# combine the two lists so that “list2” comes first, followed by “list1”;\n",
    "\n",
    "# return the new list. \n",
    "\n",
    "def combine_lists(list1, list2):\n",
    "\n",
    "  list1.reverse()\n",
    "  list2.extend(list1)\n",
    "  return list2\n",
    "  \n",
    "Jaimes_list = [\"Alma\", \"Chika\", \"Benjamin\", \"Jocelyn\", \"Oakley\"]\n",
    "Drews_list = [\"Minna\", \"Carol\", \"Gunnar\", \"Malena\"]\n",
    "\n",
    "\n",
    "print(combine_lists(Jaimes_list, Drews_list))\n",
    "# Should print ['Minna', 'Carol', 'Gunnar', 'Malena', 'Oakley', 'Jocelyn', 'Benjamin', 'Chika', 'Alma']\n"
   ]
  },
  {
   "cell_type": "code",
   "execution_count": 10,
   "metadata": {},
   "outputs": [
    {
     "name": "stdout",
     "output_type": "stream",
     "text": [
      "[4, 9]\n",
      "[1, 4, 9, 16, 25]\n",
      "[0, 1, 4, 9, 16, 25, 36, 49, 64, 81, 100]\n"
     ]
    }
   ],
   "source": [
    "# Fill in the blank to complete the “squares” function. This function should \n",
    "# use a list comprehension to create a list of squared numbers (using either \n",
    "# the expression n*n or n**2). The function receives two variables and should \n",
    "# return the list of squares that occur between the “start” and “end” variables \n",
    "# inclusively (meaning the range should include both the “start” and “end” \n",
    "# values). Complete the list comprehension in this function so that input \n",
    "# like “squares(2, 3)” will produce the output “[4, 9]”.\n",
    "\n",
    "def squares(start, end):\n",
    "    return [x*x for x in range(start,end+1)] # Create the required list comprehension.\n",
    "\n",
    "\n",
    "print(squares(2, 3)) # Should print [4, 9]\n",
    "print(squares(1, 5)) # Should print [1, 4, 9, 16, 25]\n",
    "print(squares(0, 10)) # Should print [0, 1, 4, 9, 16, 25, 36, 49, 64, 81, 100]"
   ]
  },
  {
   "cell_type": "code",
   "execution_count": null,
   "metadata": {},
   "outputs": [],
   "source": [
    "# Fill in the blanks to complete the “countries” function. This function accepts \n",
    "# a dictionary containing a list of continents (keys) and several countries from \n",
    "# each continent (values).  For each continent, format a string to print the names \n",
    "# of the countries only. The values for each key should appear on their own line.\n",
    "\n",
    "def countries(countries_dict):\n",
    "    result = []\n",
    "    # Complete the for loop to iterate through the key and value items \n",
    "    # in the dictionary.\n",
    "    for country in countries_dict.values():\n",
    "        # Use a string method to format the required string.\n",
    "        result.append(country) \n",
    "    return result\n",
    "\n",
    "print(countries({\"Africa\": [\"Kenya\", \"Egypt\", \"Nigeria\"], \"Asia\":[\"China\", \"India\", \"Thailand\"], \"South America\": [\"Ecuador\", \"Bolivia\", \"Brazil\"]}))\n",
    "\n",
    "# Should print:\n",
    "# ['Kenya', 'Egypt', 'Nigeria']\n",
    "# ['China', 'India', 'Thailand']\n",
    "# ['Ecuador', 'Bolivia', 'Brazil']\n"
   ]
  },
  {
   "cell_type": "code",
   "execution_count": null,
   "metadata": {},
   "outputs": [],
   "source": [
    "# # Consider the following scenario about using Python dictionaries: \n",
    "\n",
    "# Tessa and Rick are hosting a party. Together, they sent out invitations, and collected the responses in a dictionary, with names of their friends and the number of guests each friend will be bringing. \n",
    "\n",
    "# Complete the function so that the “check_guests” function retrieves the number of guests (value)  the specified friend “guest” (key) is bringing. This function should:\n",
    "\n",
    "# accept a dictionary “guest_list” and a key “guest” variable passed through the function parameters;\n",
    "\n",
    "# print the values associated with the key variable.\n",
    "\n",
    "def check_guests(guest_list, guest):\n",
    "  return (guest_list[guest]) # Return the value for the given key\n",
    "\n",
    "\n",
    "guest_list = { \"Adam\":3, \"Camila\":3, \"David\":5, \"Jamal\":3, \"Charley\":2, \"Titus\":1, \"Raj\":6, \"Noemi\":1, \"Sakira\":3, \"Chidi\":5}\n",
    "\n",
    "\n",
    "print(check_guests(guest_list, \"Adam\")) # Should print 3\n",
    "print(check_guests(guest_list, \"Sakira\")) # Should print 3\n",
    "print(check_guests(guest_list, \"Charley\")) # Should print 2"
   ]
  },
  {
   "cell_type": "code",
   "execution_count": null,
   "metadata": {},
   "outputs": [],
   "source": [
    "# Consider the following scenario about using Python dictionaries:\n",
    "\n",
    "# A teacher is using a dictionary to store student grades. The grades are stored as a point value out of 100.  Currently, the teacher has a dictionary setup for Term 1 grades and wants to duplicate it for Term 2. The student name keys in the dictionary should stay the same, but the grade values should be reset to 0.\n",
    "\n",
    "# Complete the “setup_gradebook” function so that input like “{\"James\": 93, \"Felicity\": 98, \"Barakaa\": 80}” will produce a resulting dictionary that contains  “{\"James\": 0, \"Felicity\": 0, \"Barakaa\": 0}”. This function should: \n",
    "\n",
    "# accept a dictionary “old_gradebook” variable through the function’s parameters;\n",
    "\n",
    "# make a copy of the “old_gradebook” dictionary;\n",
    "\n",
    "# iterate over each key and value pair in the new dictionary;\n",
    "\n",
    "# replace the value for each key with the number 0;\n",
    "\n",
    "# return the new dictionary.\n",
    "\n",
    "def setup_gradebook(old_gradebook):\n",
    "  # Use a dictionary method to create a new copy of the \"old_gradebook\".\n",
    "  for gradebook in old_gradebook: \n",
    "    # Complete the for loop to iterate over the new gradebook. \n",
    "    old_gradebook[gradebook] = 0\n",
    "  return old_gradebook\n",
    "\n",
    "fall_gradebook = {\"James\": 93, \"Felicity\": 98, \"Barakaa\": 80}\n",
    "print(setup_gradebook(fall_gradebook))\n",
    "# Should output {'James': 0, 'Felicity': 0, 'Barakaa': 0}\n"
   ]
  },
  {
   "cell_type": "code",
   "execution_count": 12,
   "metadata": {},
   "outputs": [
    {
     "name": "stdout",
     "output_type": "stream",
     "text": [
      "transc\n",
      "nd\n"
     ]
    }
   ],
   "source": [
    "genre = \"transcendental\"\n",
    "print(genre[:-8])\n",
    "print(genre[-7:9])"
   ]
  },
  {
   "cell_type": "code",
   "execution_count": 14,
   "metadata": {},
   "outputs": [
    {
     "name": "stdout",
     "output_type": "stream",
     "text": [
      "['red', 'white', 'yellow', 'blue']\n"
     ]
    }
   ],
   "source": [
    "colors = [\"red\", \"white\", \"blue\"]\n",
    "colors.insert(2, \"yellow\")\n",
    "print(colors)"
   ]
  },
  {
   "cell_type": "code",
   "execution_count": 15,
   "metadata": {},
   "outputs": [
    {
     "name": "stdout",
     "output_type": "stream",
     "text": [
      "dict_values(['Aniyah Cook', 'Ines Bisset', 'Wayne Branon'])\n"
     ]
    }
   ],
   "source": [
    "teacher_names = {\"Math\": \"Aniyah Cook\", \"Science\": \"Ines Bisset\", \"Engineering\": \"Wayne Branon\"}\n",
    "print(teacher_names.values())"
   ]
  }
 ],
 "metadata": {
  "kernelspec": {
   "display_name": "Python 3.7.0 64-bit",
   "language": "python",
   "name": "python3"
  },
  "language_info": {
   "codemirror_mode": {
    "name": "ipython",
    "version": 3
   },
   "file_extension": ".py",
   "mimetype": "text/x-python",
   "name": "python",
   "nbconvert_exporter": "python",
   "pygments_lexer": "ipython3",
   "version": "3.7.0"
  },
  "orig_nbformat": 4,
  "vscode": {
   "interpreter": {
    "hash": "d4f3b6a2a481da716a753d25a28eb6c120ed8e5e5a1bdf483d7f5016fd6841a7"
   }
  }
 },
 "nbformat": 4,
 "nbformat_minor": 2
}
